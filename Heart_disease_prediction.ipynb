{
  "cells": [
    {
      "cell_type": "markdown",
      "metadata": {
        "_uuid": "bbd660b62cc616efa33651beedc49b86045b784d",
        "id": "v3s8YPUtb3Le"
      },
      "source": [
        "## <font size=5> <strong>Heart Disease Prediction By Shreekant Gosavi\n",
        ""
      ]
    },
    {
      "cell_type": "markdown",
      "metadata": {
        "_uuid": "e41ea25bec5928203cec544d0413fecd4b4e5555",
        "id": "9351_dovb3Lj"
      },
      "source": [
        "## I. Importing essential libraries"
      ]
    },
    {
      "cell_type": "code",
      "execution_count": 69,
      "metadata": {
        "_uuid": "f571f7e57c828d45fe55f6136fe8c2e796f74d4e",
        "colab": {
          "base_uri": "https://localhost:8080/"
        },
        "id": "g7wLpCfqb3Lk",
        "outputId": "ed49b3e3-197d-494a-df8d-e0274857f2d6"
      },
      "outputs": [
        {
          "output_type": "stream",
          "name": "stdout",
          "text": [
            "['.config', 'heart.csv', 'sample_data']\n"
          ]
        }
      ],
      "source": [
        "import numpy as np\n",
        "import pandas as pd\n",
        "import matplotlib.pyplot as plt\n",
        "import seaborn as sns\n",
        "\n",
        "%matplotlib inline\n",
        "\n",
        "import os\n",
        "print(os.listdir())\n",
        "\n",
        "import warnings\n",
        "warnings.filterwarnings('ignore')"
      ]
    },
    {
      "cell_type": "markdown",
      "metadata": {
        "_uuid": "44e71221837f6fa60edc2c83b7492ddb019cc1cd",
        "id": "Gr5tvTO0b3Ll"
      },
      "source": [
        "## II. Importing and understanding our dataset"
      ]
    },
    {
      "cell_type": "code",
      "execution_count": 70,
      "metadata": {
        "_uuid": "2a1a1dae64ae3c934849b2b918bc7d68cd59e3f6",
        "id": "0YAdk5mQb3Lm"
      },
      "outputs": [],
      "source": [
        "dataset = pd.read_csv(\"heart.csv\")"
      ]
    },
    {
      "cell_type": "markdown",
      "metadata": {
        "_uuid": "481fa1d160a3256ef2470535bfb0574820fbaabd",
        "id": "qwkbqnNRb3Lm"
      },
      "source": [
        "#### Verifying it as a 'dataframe' object in pandas"
      ]
    },
    {
      "cell_type": "code",
      "execution_count": 71,
      "metadata": {
        "_uuid": "86353d54a331dbf55a63874402cf13e2a72c3750",
        "colab": {
          "base_uri": "https://localhost:8080/",
          "height": 204
        },
        "id": "DBkJFRz7b3Lm",
        "outputId": "0592d915-7a48-48f9-ff4d-28d62cb2d934"
      },
      "outputs": [
        {
          "output_type": "execute_result",
          "data": {
            "text/plain": [
              "pandas.core.frame.DataFrame"
            ],
            "text/html": [
              "<div style=\"max-width:800px; border: 1px solid var(--colab-border-color);\"><style>\n",
              "      pre.function-repr-contents {\n",
              "        overflow-x: auto;\n",
              "        padding: 8px 12px;\n",
              "        max-height: 500px;\n",
              "      }\n",
              "\n",
              "      pre.function-repr-contents.function-repr-contents-collapsed {\n",
              "        cursor: pointer;\n",
              "        max-height: 100px;\n",
              "      }\n",
              "    </style>\n",
              "    <pre style=\"white-space: initial; background:\n",
              "         var(--colab-secondary-surface-color); padding: 8px 12px;\n",
              "         border-bottom: 1px solid var(--colab-border-color);\"><b>pandas.core.frame.DataFrame</b><br/>def __init__(data=None, index: Axes | None=None, columns: Axes | None=None, dtype: Dtype | None=None, copy: bool | None=None) -&gt; None</pre><pre class=\"function-repr-contents function-repr-contents-collapsed\" style=\"\"><a class=\"filepath\" style=\"display:none\" href=\"#\">/usr/local/lib/python3.10/dist-packages/pandas/core/frame.py</a>Two-dimensional, size-mutable, potentially heterogeneous tabular data.\n",
              "\n",
              "Data structure also contains labeled axes (rows and columns).\n",
              "Arithmetic operations align on both row and column labels. Can be\n",
              "thought of as a dict-like container for Series objects. The primary\n",
              "pandas data structure.\n",
              "\n",
              "Parameters\n",
              "----------\n",
              "data : ndarray (structured or homogeneous), Iterable, dict, or DataFrame\n",
              "    Dict can contain Series, arrays, constants, dataclass or list-like objects. If\n",
              "    data is a dict, column order follows insertion-order. If a dict contains Series\n",
              "    which have an index defined, it is aligned by its index. This alignment also\n",
              "    occurs if data is a Series or a DataFrame itself. Alignment is done on\n",
              "    Series/DataFrame inputs.\n",
              "\n",
              "    If data is a list of dicts, column order follows insertion-order.\n",
              "\n",
              "index : Index or array-like\n",
              "    Index to use for resulting frame. Will default to RangeIndex if\n",
              "    no indexing information part of input data and no index provided.\n",
              "columns : Index or array-like\n",
              "    Column labels to use for resulting frame when data does not have them,\n",
              "    defaulting to RangeIndex(0, 1, 2, ..., n). If data contains column labels,\n",
              "    will perform column selection instead.\n",
              "dtype : dtype, default None\n",
              "    Data type to force. Only a single dtype is allowed. If None, infer.\n",
              "copy : bool or None, default None\n",
              "    Copy data from inputs.\n",
              "    For dict data, the default of None behaves like ``copy=True``.  For DataFrame\n",
              "    or 2d ndarray input, the default of None behaves like ``copy=False``.\n",
              "    If data is a dict containing one or more Series (possibly of different dtypes),\n",
              "    ``copy=False`` will ensure that these inputs are not copied.\n",
              "\n",
              "    .. versionchanged:: 1.3.0\n",
              "\n",
              "See Also\n",
              "--------\n",
              "DataFrame.from_records : Constructor from tuples, also record arrays.\n",
              "DataFrame.from_dict : From dicts of Series, arrays, or dicts.\n",
              "read_csv : Read a comma-separated values (csv) file into DataFrame.\n",
              "read_table : Read general delimited file into DataFrame.\n",
              "read_clipboard : Read text from clipboard into DataFrame.\n",
              "\n",
              "Notes\n",
              "-----\n",
              "Please reference the :ref:`User Guide &lt;basics.dataframe&gt;` for more information.\n",
              "\n",
              "Examples\n",
              "--------\n",
              "Constructing DataFrame from a dictionary.\n",
              "\n",
              "&gt;&gt;&gt; d = {&#x27;col1&#x27;: [1, 2], &#x27;col2&#x27;: [3, 4]}\n",
              "&gt;&gt;&gt; df = pd.DataFrame(data=d)\n",
              "&gt;&gt;&gt; df\n",
              "   col1  col2\n",
              "0     1     3\n",
              "1     2     4\n",
              "\n",
              "Notice that the inferred dtype is int64.\n",
              "\n",
              "&gt;&gt;&gt; df.dtypes\n",
              "col1    int64\n",
              "col2    int64\n",
              "dtype: object\n",
              "\n",
              "To enforce a single dtype:\n",
              "\n",
              "&gt;&gt;&gt; df = pd.DataFrame(data=d, dtype=np.int8)\n",
              "&gt;&gt;&gt; df.dtypes\n",
              "col1    int8\n",
              "col2    int8\n",
              "dtype: object\n",
              "\n",
              "Constructing DataFrame from a dictionary including Series:\n",
              "\n",
              "&gt;&gt;&gt; d = {&#x27;col1&#x27;: [0, 1, 2, 3], &#x27;col2&#x27;: pd.Series([2, 3], index=[2, 3])}\n",
              "&gt;&gt;&gt; pd.DataFrame(data=d, index=[0, 1, 2, 3])\n",
              "   col1  col2\n",
              "0     0   NaN\n",
              "1     1   NaN\n",
              "2     2   2.0\n",
              "3     3   3.0\n",
              "\n",
              "Constructing DataFrame from numpy ndarray:\n",
              "\n",
              "&gt;&gt;&gt; df2 = pd.DataFrame(np.array([[1, 2, 3], [4, 5, 6], [7, 8, 9]]),\n",
              "...                    columns=[&#x27;a&#x27;, &#x27;b&#x27;, &#x27;c&#x27;])\n",
              "&gt;&gt;&gt; df2\n",
              "   a  b  c\n",
              "0  1  2  3\n",
              "1  4  5  6\n",
              "2  7  8  9\n",
              "\n",
              "Constructing DataFrame from a numpy ndarray that has labeled columns:\n",
              "\n",
              "&gt;&gt;&gt; data = np.array([(1, 2, 3), (4, 5, 6), (7, 8, 9)],\n",
              "...                 dtype=[(&quot;a&quot;, &quot;i4&quot;), (&quot;b&quot;, &quot;i4&quot;), (&quot;c&quot;, &quot;i4&quot;)])\n",
              "&gt;&gt;&gt; df3 = pd.DataFrame(data, columns=[&#x27;c&#x27;, &#x27;a&#x27;])\n",
              "...\n",
              "&gt;&gt;&gt; df3\n",
              "   c  a\n",
              "0  3  1\n",
              "1  6  4\n",
              "2  9  7\n",
              "\n",
              "Constructing DataFrame from dataclass:\n",
              "\n",
              "&gt;&gt;&gt; from dataclasses import make_dataclass\n",
              "&gt;&gt;&gt; Point = make_dataclass(&quot;Point&quot;, [(&quot;x&quot;, int), (&quot;y&quot;, int)])\n",
              "&gt;&gt;&gt; pd.DataFrame([Point(0, 0), Point(0, 3), Point(2, 3)])\n",
              "   x  y\n",
              "0  0  0\n",
              "1  0  3\n",
              "2  2  3\n",
              "\n",
              "Constructing DataFrame from Series/DataFrame:\n",
              "\n",
              "&gt;&gt;&gt; ser = pd.Series([1, 2, 3], index=[&quot;a&quot;, &quot;b&quot;, &quot;c&quot;])\n",
              "&gt;&gt;&gt; df = pd.DataFrame(data=ser, index=[&quot;a&quot;, &quot;c&quot;])\n",
              "&gt;&gt;&gt; df\n",
              "   0\n",
              "a  1\n",
              "c  3\n",
              "\n",
              "&gt;&gt;&gt; df1 = pd.DataFrame([1, 2, 3], index=[&quot;a&quot;, &quot;b&quot;, &quot;c&quot;], columns=[&quot;x&quot;])\n",
              "&gt;&gt;&gt; df2 = pd.DataFrame(data=df1, index=[&quot;a&quot;, &quot;c&quot;])\n",
              "&gt;&gt;&gt; df2\n",
              "   x\n",
              "a  1\n",
              "c  3</pre>\n",
              "      <script>\n",
              "      if (google.colab.kernel.accessAllowed && google.colab.files && google.colab.files.view) {\n",
              "        for (const element of document.querySelectorAll('.filepath')) {\n",
              "          element.style.display = 'block'\n",
              "          element.onclick = (event) => {\n",
              "            event.preventDefault();\n",
              "            event.stopPropagation();\n",
              "            google.colab.files.view(element.textContent, 490);\n",
              "          };\n",
              "        }\n",
              "      }\n",
              "      for (const element of document.querySelectorAll('.function-repr-contents')) {\n",
              "        element.onclick = (event) => {\n",
              "          event.preventDefault();\n",
              "          event.stopPropagation();\n",
              "          element.classList.toggle('function-repr-contents-collapsed');\n",
              "        };\n",
              "      }\n",
              "      </script>\n",
              "      </div>"
            ]
          },
          "metadata": {},
          "execution_count": 71
        }
      ],
      "source": [
        "type(dataset)"
      ]
    },
    {
      "cell_type": "markdown",
      "metadata": {
        "_uuid": "44649a50ce58d2e10a032f7d0e7ecf435e932481",
        "id": "ekxUDd5Qb3Lm"
      },
      "source": [
        "#### Shape of dataset"
      ]
    },
    {
      "cell_type": "code",
      "execution_count": 72,
      "metadata": {
        "_uuid": "0a2396061d262bee451e61dd51be84d0bd1ac9d0",
        "colab": {
          "base_uri": "https://localhost:8080/"
        },
        "id": "05zPaAF1b3Lm",
        "outputId": "26d6905f-8042-495b-8070-bc7e45ee34fa"
      },
      "outputs": [
        {
          "output_type": "execute_result",
          "data": {
            "text/plain": [
              "(303, 14)"
            ]
          },
          "metadata": {},
          "execution_count": 72
        }
      ],
      "source": [
        "dataset.shape"
      ]
    },
    {
      "cell_type": "markdown",
      "metadata": {
        "_uuid": "3e1de0c39fc28f086a5e8377cc5fbdbf91d377b3",
        "id": "HqNAxpuvb3Ln"
      },
      "source": [
        "#### Printing out a few columns"
      ]
    },
    {
      "cell_type": "code",
      "execution_count": 73,
      "metadata": {
        "_uuid": "87ebcc578e5959fe9a9c9a538c73122183454459",
        "colab": {
          "base_uri": "https://localhost:8080/",
          "height": 206
        },
        "id": "7sEclNdib3Ln",
        "outputId": "22c9de90-2c23-4541-ed56-b2b3f343cf3e"
      },
      "outputs": [
        {
          "output_type": "execute_result",
          "data": {
            "text/plain": [
              "   age  sex  cp  trestbps  chol  fbs  restecg  thalach  exang  oldpeak  slope  \\\n",
              "0   63    1   3       145   233    1        0      150      0      2.3      0   \n",
              "1   37    1   2       130   250    0        1      187      0      3.5      0   \n",
              "2   41    0   1       130   204    0        0      172      0      1.4      2   \n",
              "3   56    1   1       120   236    0        1      178      0      0.8      2   \n",
              "4   57    0   0       120   354    0        1      163      1      0.6      2   \n",
              "\n",
              "   ca  thal  target  \n",
              "0   0     1       1  \n",
              "1   0     2       1  \n",
              "2   0     2       1  \n",
              "3   0     2       1  \n",
              "4   0     2       1  "
            ],
            "text/html": [
              "\n",
              "  <div id=\"df-50473c7e-3567-4777-84eb-1087ab5ca50b\" class=\"colab-df-container\">\n",
              "    <div>\n",
              "<style scoped>\n",
              "    .dataframe tbody tr th:only-of-type {\n",
              "        vertical-align: middle;\n",
              "    }\n",
              "\n",
              "    .dataframe tbody tr th {\n",
              "        vertical-align: top;\n",
              "    }\n",
              "\n",
              "    .dataframe thead th {\n",
              "        text-align: right;\n",
              "    }\n",
              "</style>\n",
              "<table border=\"1\" class=\"dataframe\">\n",
              "  <thead>\n",
              "    <tr style=\"text-align: right;\">\n",
              "      <th></th>\n",
              "      <th>age</th>\n",
              "      <th>sex</th>\n",
              "      <th>cp</th>\n",
              "      <th>trestbps</th>\n",
              "      <th>chol</th>\n",
              "      <th>fbs</th>\n",
              "      <th>restecg</th>\n",
              "      <th>thalach</th>\n",
              "      <th>exang</th>\n",
              "      <th>oldpeak</th>\n",
              "      <th>slope</th>\n",
              "      <th>ca</th>\n",
              "      <th>thal</th>\n",
              "      <th>target</th>\n",
              "    </tr>\n",
              "  </thead>\n",
              "  <tbody>\n",
              "    <tr>\n",
              "      <th>0</th>\n",
              "      <td>63</td>\n",
              "      <td>1</td>\n",
              "      <td>3</td>\n",
              "      <td>145</td>\n",
              "      <td>233</td>\n",
              "      <td>1</td>\n",
              "      <td>0</td>\n",
              "      <td>150</td>\n",
              "      <td>0</td>\n",
              "      <td>2.3</td>\n",
              "      <td>0</td>\n",
              "      <td>0</td>\n",
              "      <td>1</td>\n",
              "      <td>1</td>\n",
              "    </tr>\n",
              "    <tr>\n",
              "      <th>1</th>\n",
              "      <td>37</td>\n",
              "      <td>1</td>\n",
              "      <td>2</td>\n",
              "      <td>130</td>\n",
              "      <td>250</td>\n",
              "      <td>0</td>\n",
              "      <td>1</td>\n",
              "      <td>187</td>\n",
              "      <td>0</td>\n",
              "      <td>3.5</td>\n",
              "      <td>0</td>\n",
              "      <td>0</td>\n",
              "      <td>2</td>\n",
              "      <td>1</td>\n",
              "    </tr>\n",
              "    <tr>\n",
              "      <th>2</th>\n",
              "      <td>41</td>\n",
              "      <td>0</td>\n",
              "      <td>1</td>\n",
              "      <td>130</td>\n",
              "      <td>204</td>\n",
              "      <td>0</td>\n",
              "      <td>0</td>\n",
              "      <td>172</td>\n",
              "      <td>0</td>\n",
              "      <td>1.4</td>\n",
              "      <td>2</td>\n",
              "      <td>0</td>\n",
              "      <td>2</td>\n",
              "      <td>1</td>\n",
              "    </tr>\n",
              "    <tr>\n",
              "      <th>3</th>\n",
              "      <td>56</td>\n",
              "      <td>1</td>\n",
              "      <td>1</td>\n",
              "      <td>120</td>\n",
              "      <td>236</td>\n",
              "      <td>0</td>\n",
              "      <td>1</td>\n",
              "      <td>178</td>\n",
              "      <td>0</td>\n",
              "      <td>0.8</td>\n",
              "      <td>2</td>\n",
              "      <td>0</td>\n",
              "      <td>2</td>\n",
              "      <td>1</td>\n",
              "    </tr>\n",
              "    <tr>\n",
              "      <th>4</th>\n",
              "      <td>57</td>\n",
              "      <td>0</td>\n",
              "      <td>0</td>\n",
              "      <td>120</td>\n",
              "      <td>354</td>\n",
              "      <td>0</td>\n",
              "      <td>1</td>\n",
              "      <td>163</td>\n",
              "      <td>1</td>\n",
              "      <td>0.6</td>\n",
              "      <td>2</td>\n",
              "      <td>0</td>\n",
              "      <td>2</td>\n",
              "      <td>1</td>\n",
              "    </tr>\n",
              "  </tbody>\n",
              "</table>\n",
              "</div>\n",
              "    <div class=\"colab-df-buttons\">\n",
              "\n",
              "  <div class=\"colab-df-container\">\n",
              "    <button class=\"colab-df-convert\" onclick=\"convertToInteractive('df-50473c7e-3567-4777-84eb-1087ab5ca50b')\"\n",
              "            title=\"Convert this dataframe to an interactive table.\"\n",
              "            style=\"display:none;\">\n",
              "\n",
              "  <svg xmlns=\"http://www.w3.org/2000/svg\" height=\"24px\" viewBox=\"0 -960 960 960\">\n",
              "    <path d=\"M120-120v-720h720v720H120Zm60-500h600v-160H180v160Zm220 220h160v-160H400v160Zm0 220h160v-160H400v160ZM180-400h160v-160H180v160Zm440 0h160v-160H620v160ZM180-180h160v-160H180v160Zm440 0h160v-160H620v160Z\"/>\n",
              "  </svg>\n",
              "    </button>\n",
              "\n",
              "  <style>\n",
              "    .colab-df-container {\n",
              "      display:flex;\n",
              "      gap: 12px;\n",
              "    }\n",
              "\n",
              "    .colab-df-convert {\n",
              "      background-color: #E8F0FE;\n",
              "      border: none;\n",
              "      border-radius: 50%;\n",
              "      cursor: pointer;\n",
              "      display: none;\n",
              "      fill: #1967D2;\n",
              "      height: 32px;\n",
              "      padding: 0 0 0 0;\n",
              "      width: 32px;\n",
              "    }\n",
              "\n",
              "    .colab-df-convert:hover {\n",
              "      background-color: #E2EBFA;\n",
              "      box-shadow: 0px 1px 2px rgba(60, 64, 67, 0.3), 0px 1px 3px 1px rgba(60, 64, 67, 0.15);\n",
              "      fill: #174EA6;\n",
              "    }\n",
              "\n",
              "    .colab-df-buttons div {\n",
              "      margin-bottom: 4px;\n",
              "    }\n",
              "\n",
              "    [theme=dark] .colab-df-convert {\n",
              "      background-color: #3B4455;\n",
              "      fill: #D2E3FC;\n",
              "    }\n",
              "\n",
              "    [theme=dark] .colab-df-convert:hover {\n",
              "      background-color: #434B5C;\n",
              "      box-shadow: 0px 1px 3px 1px rgba(0, 0, 0, 0.15);\n",
              "      filter: drop-shadow(0px 1px 2px rgba(0, 0, 0, 0.3));\n",
              "      fill: #FFFFFF;\n",
              "    }\n",
              "  </style>\n",
              "\n",
              "    <script>\n",
              "      const buttonEl =\n",
              "        document.querySelector('#df-50473c7e-3567-4777-84eb-1087ab5ca50b button.colab-df-convert');\n",
              "      buttonEl.style.display =\n",
              "        google.colab.kernel.accessAllowed ? 'block' : 'none';\n",
              "\n",
              "      async function convertToInteractive(key) {\n",
              "        const element = document.querySelector('#df-50473c7e-3567-4777-84eb-1087ab5ca50b');\n",
              "        const dataTable =\n",
              "          await google.colab.kernel.invokeFunction('convertToInteractive',\n",
              "                                                    [key], {});\n",
              "        if (!dataTable) return;\n",
              "\n",
              "        const docLinkHtml = 'Like what you see? Visit the ' +\n",
              "          '<a target=\"_blank\" href=https://colab.research.google.com/notebooks/data_table.ipynb>data table notebook</a>'\n",
              "          + ' to learn more about interactive tables.';\n",
              "        element.innerHTML = '';\n",
              "        dataTable['output_type'] = 'display_data';\n",
              "        await google.colab.output.renderOutput(dataTable, element);\n",
              "        const docLink = document.createElement('div');\n",
              "        docLink.innerHTML = docLinkHtml;\n",
              "        element.appendChild(docLink);\n",
              "      }\n",
              "    </script>\n",
              "  </div>\n",
              "\n",
              "\n",
              "<div id=\"df-5ad2ec25-ca64-488d-87b4-fa7d3185591a\">\n",
              "  <button class=\"colab-df-quickchart\" onclick=\"quickchart('df-5ad2ec25-ca64-488d-87b4-fa7d3185591a')\"\n",
              "            title=\"Suggest charts\"\n",
              "            style=\"display:none;\">\n",
              "\n",
              "<svg xmlns=\"http://www.w3.org/2000/svg\" height=\"24px\"viewBox=\"0 0 24 24\"\n",
              "     width=\"24px\">\n",
              "    <g>\n",
              "        <path d=\"M19 3H5c-1.1 0-2 .9-2 2v14c0 1.1.9 2 2 2h14c1.1 0 2-.9 2-2V5c0-1.1-.9-2-2-2zM9 17H7v-7h2v7zm4 0h-2V7h2v10zm4 0h-2v-4h2v4z\"/>\n",
              "    </g>\n",
              "</svg>\n",
              "  </button>\n",
              "\n",
              "<style>\n",
              "  .colab-df-quickchart {\n",
              "      --bg-color: #E8F0FE;\n",
              "      --fill-color: #1967D2;\n",
              "      --hover-bg-color: #E2EBFA;\n",
              "      --hover-fill-color: #174EA6;\n",
              "      --disabled-fill-color: #AAA;\n",
              "      --disabled-bg-color: #DDD;\n",
              "  }\n",
              "\n",
              "  [theme=dark] .colab-df-quickchart {\n",
              "      --bg-color: #3B4455;\n",
              "      --fill-color: #D2E3FC;\n",
              "      --hover-bg-color: #434B5C;\n",
              "      --hover-fill-color: #FFFFFF;\n",
              "      --disabled-bg-color: #3B4455;\n",
              "      --disabled-fill-color: #666;\n",
              "  }\n",
              "\n",
              "  .colab-df-quickchart {\n",
              "    background-color: var(--bg-color);\n",
              "    border: none;\n",
              "    border-radius: 50%;\n",
              "    cursor: pointer;\n",
              "    display: none;\n",
              "    fill: var(--fill-color);\n",
              "    height: 32px;\n",
              "    padding: 0;\n",
              "    width: 32px;\n",
              "  }\n",
              "\n",
              "  .colab-df-quickchart:hover {\n",
              "    background-color: var(--hover-bg-color);\n",
              "    box-shadow: 0 1px 2px rgba(60, 64, 67, 0.3), 0 1px 3px 1px rgba(60, 64, 67, 0.15);\n",
              "    fill: var(--button-hover-fill-color);\n",
              "  }\n",
              "\n",
              "  .colab-df-quickchart-complete:disabled,\n",
              "  .colab-df-quickchart-complete:disabled:hover {\n",
              "    background-color: var(--disabled-bg-color);\n",
              "    fill: var(--disabled-fill-color);\n",
              "    box-shadow: none;\n",
              "  }\n",
              "\n",
              "  .colab-df-spinner {\n",
              "    border: 2px solid var(--fill-color);\n",
              "    border-color: transparent;\n",
              "    border-bottom-color: var(--fill-color);\n",
              "    animation:\n",
              "      spin 1s steps(1) infinite;\n",
              "  }\n",
              "\n",
              "  @keyframes spin {\n",
              "    0% {\n",
              "      border-color: transparent;\n",
              "      border-bottom-color: var(--fill-color);\n",
              "      border-left-color: var(--fill-color);\n",
              "    }\n",
              "    20% {\n",
              "      border-color: transparent;\n",
              "      border-left-color: var(--fill-color);\n",
              "      border-top-color: var(--fill-color);\n",
              "    }\n",
              "    30% {\n",
              "      border-color: transparent;\n",
              "      border-left-color: var(--fill-color);\n",
              "      border-top-color: var(--fill-color);\n",
              "      border-right-color: var(--fill-color);\n",
              "    }\n",
              "    40% {\n",
              "      border-color: transparent;\n",
              "      border-right-color: var(--fill-color);\n",
              "      border-top-color: var(--fill-color);\n",
              "    }\n",
              "    60% {\n",
              "      border-color: transparent;\n",
              "      border-right-color: var(--fill-color);\n",
              "    }\n",
              "    80% {\n",
              "      border-color: transparent;\n",
              "      border-right-color: var(--fill-color);\n",
              "      border-bottom-color: var(--fill-color);\n",
              "    }\n",
              "    90% {\n",
              "      border-color: transparent;\n",
              "      border-bottom-color: var(--fill-color);\n",
              "    }\n",
              "  }\n",
              "</style>\n",
              "\n",
              "  <script>\n",
              "    async function quickchart(key) {\n",
              "      const quickchartButtonEl =\n",
              "        document.querySelector('#' + key + ' button');\n",
              "      quickchartButtonEl.disabled = true;  // To prevent multiple clicks.\n",
              "      quickchartButtonEl.classList.add('colab-df-spinner');\n",
              "      try {\n",
              "        const charts = await google.colab.kernel.invokeFunction(\n",
              "            'suggestCharts', [key], {});\n",
              "      } catch (error) {\n",
              "        console.error('Error during call to suggestCharts:', error);\n",
              "      }\n",
              "      quickchartButtonEl.classList.remove('colab-df-spinner');\n",
              "      quickchartButtonEl.classList.add('colab-df-quickchart-complete');\n",
              "    }\n",
              "    (() => {\n",
              "      let quickchartButtonEl =\n",
              "        document.querySelector('#df-5ad2ec25-ca64-488d-87b4-fa7d3185591a button');\n",
              "      quickchartButtonEl.style.display =\n",
              "        google.colab.kernel.accessAllowed ? 'block' : 'none';\n",
              "    })();\n",
              "  </script>\n",
              "</div>\n",
              "\n",
              "    </div>\n",
              "  </div>\n"
            ],
            "application/vnd.google.colaboratory.intrinsic+json": {
              "type": "dataframe",
              "variable_name": "dataset",
              "summary": "{\n  \"name\": \"dataset\",\n  \"rows\": 303,\n  \"fields\": [\n    {\n      \"column\": \"age\",\n      \"properties\": {\n        \"dtype\": \"number\",\n        \"std\": 9,\n        \"min\": 29,\n        \"max\": 77,\n        \"num_unique_values\": 41,\n        \"samples\": [\n          46,\n          66,\n          48\n        ],\n        \"semantic_type\": \"\",\n        \"description\": \"\"\n      }\n    },\n    {\n      \"column\": \"sex\",\n      \"properties\": {\n        \"dtype\": \"number\",\n        \"std\": 0,\n        \"min\": 0,\n        \"max\": 1,\n        \"num_unique_values\": 2,\n        \"samples\": [\n          0,\n          1\n        ],\n        \"semantic_type\": \"\",\n        \"description\": \"\"\n      }\n    },\n    {\n      \"column\": \"cp\",\n      \"properties\": {\n        \"dtype\": \"number\",\n        \"std\": 1,\n        \"min\": 0,\n        \"max\": 3,\n        \"num_unique_values\": 4,\n        \"samples\": [\n          2,\n          0\n        ],\n        \"semantic_type\": \"\",\n        \"description\": \"\"\n      }\n    },\n    {\n      \"column\": \"trestbps\",\n      \"properties\": {\n        \"dtype\": \"number\",\n        \"std\": 17,\n        \"min\": 94,\n        \"max\": 200,\n        \"num_unique_values\": 49,\n        \"samples\": [\n          104,\n          123\n        ],\n        \"semantic_type\": \"\",\n        \"description\": \"\"\n      }\n    },\n    {\n      \"column\": \"chol\",\n      \"properties\": {\n        \"dtype\": \"number\",\n        \"std\": 51,\n        \"min\": 126,\n        \"max\": 564,\n        \"num_unique_values\": 152,\n        \"samples\": [\n          277,\n          169\n        ],\n        \"semantic_type\": \"\",\n        \"description\": \"\"\n      }\n    },\n    {\n      \"column\": \"fbs\",\n      \"properties\": {\n        \"dtype\": \"number\",\n        \"std\": 0,\n        \"min\": 0,\n        \"max\": 1,\n        \"num_unique_values\": 2,\n        \"samples\": [\n          0,\n          1\n        ],\n        \"semantic_type\": \"\",\n        \"description\": \"\"\n      }\n    },\n    {\n      \"column\": \"restecg\",\n      \"properties\": {\n        \"dtype\": \"number\",\n        \"std\": 0,\n        \"min\": 0,\n        \"max\": 2,\n        \"num_unique_values\": 3,\n        \"samples\": [\n          0,\n          1\n        ],\n        \"semantic_type\": \"\",\n        \"description\": \"\"\n      }\n    },\n    {\n      \"column\": \"thalach\",\n      \"properties\": {\n        \"dtype\": \"number\",\n        \"std\": 22,\n        \"min\": 71,\n        \"max\": 202,\n        \"num_unique_values\": 91,\n        \"samples\": [\n          159,\n          152\n        ],\n        \"semantic_type\": \"\",\n        \"description\": \"\"\n      }\n    },\n    {\n      \"column\": \"exang\",\n      \"properties\": {\n        \"dtype\": \"number\",\n        \"std\": 0,\n        \"min\": 0,\n        \"max\": 1,\n        \"num_unique_values\": 2,\n        \"samples\": [\n          1,\n          0\n        ],\n        \"semantic_type\": \"\",\n        \"description\": \"\"\n      }\n    },\n    {\n      \"column\": \"oldpeak\",\n      \"properties\": {\n        \"dtype\": \"number\",\n        \"std\": 1.1610750220686348,\n        \"min\": 0.0,\n        \"max\": 6.2,\n        \"num_unique_values\": 40,\n        \"samples\": [\n          1.9,\n          3.0\n        ],\n        \"semantic_type\": \"\",\n        \"description\": \"\"\n      }\n    },\n    {\n      \"column\": \"slope\",\n      \"properties\": {\n        \"dtype\": \"number\",\n        \"std\": 0,\n        \"min\": 0,\n        \"max\": 2,\n        \"num_unique_values\": 3,\n        \"samples\": [\n          0,\n          2\n        ],\n        \"semantic_type\": \"\",\n        \"description\": \"\"\n      }\n    },\n    {\n      \"column\": \"ca\",\n      \"properties\": {\n        \"dtype\": \"number\",\n        \"std\": 1,\n        \"min\": 0,\n        \"max\": 4,\n        \"num_unique_values\": 5,\n        \"samples\": [\n          2,\n          4\n        ],\n        \"semantic_type\": \"\",\n        \"description\": \"\"\n      }\n    },\n    {\n      \"column\": \"thal\",\n      \"properties\": {\n        \"dtype\": \"number\",\n        \"std\": 0,\n        \"min\": 0,\n        \"max\": 3,\n        \"num_unique_values\": 4,\n        \"samples\": [\n          2,\n          0\n        ],\n        \"semantic_type\": \"\",\n        \"description\": \"\"\n      }\n    },\n    {\n      \"column\": \"target\",\n      \"properties\": {\n        \"dtype\": \"number\",\n        \"std\": 0,\n        \"min\": 0,\n        \"max\": 1,\n        \"num_unique_values\": 2,\n        \"samples\": [\n          0,\n          1\n        ],\n        \"semantic_type\": \"\",\n        \"description\": \"\"\n      }\n    }\n  ]\n}"
            }
          },
          "metadata": {},
          "execution_count": 73
        }
      ],
      "source": [
        "dataset.head(5)"
      ]
    },
    {
      "cell_type": "code",
      "execution_count": 74,
      "metadata": {
        "_uuid": "5132eb43114bf99d5f857f459d0c9d2faffc9644",
        "colab": {
          "base_uri": "https://localhost:8080/",
          "height": 206
        },
        "id": "kLN4WCyFb3Ln",
        "outputId": "049518b5-e27c-42be-bb5e-64cc232324db"
      },
      "outputs": [
        {
          "output_type": "execute_result",
          "data": {
            "text/plain": [
              "     age  sex  cp  trestbps  chol  fbs  restecg  thalach  exang  oldpeak  \\\n",
              "76    51    1   2       125   245    1        0      166      0      2.4   \n",
              "251   43    1   0       132   247    1        0      143      1      0.1   \n",
              "15    50    0   2       120   219    0        1      158      0      1.6   \n",
              "69    62    0   0       124   209    0        1      163      0      0.0   \n",
              "255   45    1   0       142   309    0        0      147      1      0.0   \n",
              "\n",
              "     slope  ca  thal  target  \n",
              "76       1   0     2       1  \n",
              "251      1   4     3       0  \n",
              "15       1   0     2       1  \n",
              "69       2   0     2       1  \n",
              "255      1   3     3       0  "
            ],
            "text/html": [
              "\n",
              "  <div id=\"df-d6f214b7-671c-4dbc-a5ad-0aba0b5a24fc\" class=\"colab-df-container\">\n",
              "    <div>\n",
              "<style scoped>\n",
              "    .dataframe tbody tr th:only-of-type {\n",
              "        vertical-align: middle;\n",
              "    }\n",
              "\n",
              "    .dataframe tbody tr th {\n",
              "        vertical-align: top;\n",
              "    }\n",
              "\n",
              "    .dataframe thead th {\n",
              "        text-align: right;\n",
              "    }\n",
              "</style>\n",
              "<table border=\"1\" class=\"dataframe\">\n",
              "  <thead>\n",
              "    <tr style=\"text-align: right;\">\n",
              "      <th></th>\n",
              "      <th>age</th>\n",
              "      <th>sex</th>\n",
              "      <th>cp</th>\n",
              "      <th>trestbps</th>\n",
              "      <th>chol</th>\n",
              "      <th>fbs</th>\n",
              "      <th>restecg</th>\n",
              "      <th>thalach</th>\n",
              "      <th>exang</th>\n",
              "      <th>oldpeak</th>\n",
              "      <th>slope</th>\n",
              "      <th>ca</th>\n",
              "      <th>thal</th>\n",
              "      <th>target</th>\n",
              "    </tr>\n",
              "  </thead>\n",
              "  <tbody>\n",
              "    <tr>\n",
              "      <th>76</th>\n",
              "      <td>51</td>\n",
              "      <td>1</td>\n",
              "      <td>2</td>\n",
              "      <td>125</td>\n",
              "      <td>245</td>\n",
              "      <td>1</td>\n",
              "      <td>0</td>\n",
              "      <td>166</td>\n",
              "      <td>0</td>\n",
              "      <td>2.4</td>\n",
              "      <td>1</td>\n",
              "      <td>0</td>\n",
              "      <td>2</td>\n",
              "      <td>1</td>\n",
              "    </tr>\n",
              "    <tr>\n",
              "      <th>251</th>\n",
              "      <td>43</td>\n",
              "      <td>1</td>\n",
              "      <td>0</td>\n",
              "      <td>132</td>\n",
              "      <td>247</td>\n",
              "      <td>1</td>\n",
              "      <td>0</td>\n",
              "      <td>143</td>\n",
              "      <td>1</td>\n",
              "      <td>0.1</td>\n",
              "      <td>1</td>\n",
              "      <td>4</td>\n",
              "      <td>3</td>\n",
              "      <td>0</td>\n",
              "    </tr>\n",
              "    <tr>\n",
              "      <th>15</th>\n",
              "      <td>50</td>\n",
              "      <td>0</td>\n",
              "      <td>2</td>\n",
              "      <td>120</td>\n",
              "      <td>219</td>\n",
              "      <td>0</td>\n",
              "      <td>1</td>\n",
              "      <td>158</td>\n",
              "      <td>0</td>\n",
              "      <td>1.6</td>\n",
              "      <td>1</td>\n",
              "      <td>0</td>\n",
              "      <td>2</td>\n",
              "      <td>1</td>\n",
              "    </tr>\n",
              "    <tr>\n",
              "      <th>69</th>\n",
              "      <td>62</td>\n",
              "      <td>0</td>\n",
              "      <td>0</td>\n",
              "      <td>124</td>\n",
              "      <td>209</td>\n",
              "      <td>0</td>\n",
              "      <td>1</td>\n",
              "      <td>163</td>\n",
              "      <td>0</td>\n",
              "      <td>0.0</td>\n",
              "      <td>2</td>\n",
              "      <td>0</td>\n",
              "      <td>2</td>\n",
              "      <td>1</td>\n",
              "    </tr>\n",
              "    <tr>\n",
              "      <th>255</th>\n",
              "      <td>45</td>\n",
              "      <td>1</td>\n",
              "      <td>0</td>\n",
              "      <td>142</td>\n",
              "      <td>309</td>\n",
              "      <td>0</td>\n",
              "      <td>0</td>\n",
              "      <td>147</td>\n",
              "      <td>1</td>\n",
              "      <td>0.0</td>\n",
              "      <td>1</td>\n",
              "      <td>3</td>\n",
              "      <td>3</td>\n",
              "      <td>0</td>\n",
              "    </tr>\n",
              "  </tbody>\n",
              "</table>\n",
              "</div>\n",
              "    <div class=\"colab-df-buttons\">\n",
              "\n",
              "  <div class=\"colab-df-container\">\n",
              "    <button class=\"colab-df-convert\" onclick=\"convertToInteractive('df-d6f214b7-671c-4dbc-a5ad-0aba0b5a24fc')\"\n",
              "            title=\"Convert this dataframe to an interactive table.\"\n",
              "            style=\"display:none;\">\n",
              "\n",
              "  <svg xmlns=\"http://www.w3.org/2000/svg\" height=\"24px\" viewBox=\"0 -960 960 960\">\n",
              "    <path d=\"M120-120v-720h720v720H120Zm60-500h600v-160H180v160Zm220 220h160v-160H400v160Zm0 220h160v-160H400v160ZM180-400h160v-160H180v160Zm440 0h160v-160H620v160ZM180-180h160v-160H180v160Zm440 0h160v-160H620v160Z\"/>\n",
              "  </svg>\n",
              "    </button>\n",
              "\n",
              "  <style>\n",
              "    .colab-df-container {\n",
              "      display:flex;\n",
              "      gap: 12px;\n",
              "    }\n",
              "\n",
              "    .colab-df-convert {\n",
              "      background-color: #E8F0FE;\n",
              "      border: none;\n",
              "      border-radius: 50%;\n",
              "      cursor: pointer;\n",
              "      display: none;\n",
              "      fill: #1967D2;\n",
              "      height: 32px;\n",
              "      padding: 0 0 0 0;\n",
              "      width: 32px;\n",
              "    }\n",
              "\n",
              "    .colab-df-convert:hover {\n",
              "      background-color: #E2EBFA;\n",
              "      box-shadow: 0px 1px 2px rgba(60, 64, 67, 0.3), 0px 1px 3px 1px rgba(60, 64, 67, 0.15);\n",
              "      fill: #174EA6;\n",
              "    }\n",
              "\n",
              "    .colab-df-buttons div {\n",
              "      margin-bottom: 4px;\n",
              "    }\n",
              "\n",
              "    [theme=dark] .colab-df-convert {\n",
              "      background-color: #3B4455;\n",
              "      fill: #D2E3FC;\n",
              "    }\n",
              "\n",
              "    [theme=dark] .colab-df-convert:hover {\n",
              "      background-color: #434B5C;\n",
              "      box-shadow: 0px 1px 3px 1px rgba(0, 0, 0, 0.15);\n",
              "      filter: drop-shadow(0px 1px 2px rgba(0, 0, 0, 0.3));\n",
              "      fill: #FFFFFF;\n",
              "    }\n",
              "  </style>\n",
              "\n",
              "    <script>\n",
              "      const buttonEl =\n",
              "        document.querySelector('#df-d6f214b7-671c-4dbc-a5ad-0aba0b5a24fc button.colab-df-convert');\n",
              "      buttonEl.style.display =\n",
              "        google.colab.kernel.accessAllowed ? 'block' : 'none';\n",
              "\n",
              "      async function convertToInteractive(key) {\n",
              "        const element = document.querySelector('#df-d6f214b7-671c-4dbc-a5ad-0aba0b5a24fc');\n",
              "        const dataTable =\n",
              "          await google.colab.kernel.invokeFunction('convertToInteractive',\n",
              "                                                    [key], {});\n",
              "        if (!dataTable) return;\n",
              "\n",
              "        const docLinkHtml = 'Like what you see? Visit the ' +\n",
              "          '<a target=\"_blank\" href=https://colab.research.google.com/notebooks/data_table.ipynb>data table notebook</a>'\n",
              "          + ' to learn more about interactive tables.';\n",
              "        element.innerHTML = '';\n",
              "        dataTable['output_type'] = 'display_data';\n",
              "        await google.colab.output.renderOutput(dataTable, element);\n",
              "        const docLink = document.createElement('div');\n",
              "        docLink.innerHTML = docLinkHtml;\n",
              "        element.appendChild(docLink);\n",
              "      }\n",
              "    </script>\n",
              "  </div>\n",
              "\n",
              "\n",
              "<div id=\"df-066d806f-b058-4eee-b077-9e7b1780e19e\">\n",
              "  <button class=\"colab-df-quickchart\" onclick=\"quickchart('df-066d806f-b058-4eee-b077-9e7b1780e19e')\"\n",
              "            title=\"Suggest charts\"\n",
              "            style=\"display:none;\">\n",
              "\n",
              "<svg xmlns=\"http://www.w3.org/2000/svg\" height=\"24px\"viewBox=\"0 0 24 24\"\n",
              "     width=\"24px\">\n",
              "    <g>\n",
              "        <path d=\"M19 3H5c-1.1 0-2 .9-2 2v14c0 1.1.9 2 2 2h14c1.1 0 2-.9 2-2V5c0-1.1-.9-2-2-2zM9 17H7v-7h2v7zm4 0h-2V7h2v10zm4 0h-2v-4h2v4z\"/>\n",
              "    </g>\n",
              "</svg>\n",
              "  </button>\n",
              "\n",
              "<style>\n",
              "  .colab-df-quickchart {\n",
              "      --bg-color: #E8F0FE;\n",
              "      --fill-color: #1967D2;\n",
              "      --hover-bg-color: #E2EBFA;\n",
              "      --hover-fill-color: #174EA6;\n",
              "      --disabled-fill-color: #AAA;\n",
              "      --disabled-bg-color: #DDD;\n",
              "  }\n",
              "\n",
              "  [theme=dark] .colab-df-quickchart {\n",
              "      --bg-color: #3B4455;\n",
              "      --fill-color: #D2E3FC;\n",
              "      --hover-bg-color: #434B5C;\n",
              "      --hover-fill-color: #FFFFFF;\n",
              "      --disabled-bg-color: #3B4455;\n",
              "      --disabled-fill-color: #666;\n",
              "  }\n",
              "\n",
              "  .colab-df-quickchart {\n",
              "    background-color: var(--bg-color);\n",
              "    border: none;\n",
              "    border-radius: 50%;\n",
              "    cursor: pointer;\n",
              "    display: none;\n",
              "    fill: var(--fill-color);\n",
              "    height: 32px;\n",
              "    padding: 0;\n",
              "    width: 32px;\n",
              "  }\n",
              "\n",
              "  .colab-df-quickchart:hover {\n",
              "    background-color: var(--hover-bg-color);\n",
              "    box-shadow: 0 1px 2px rgba(60, 64, 67, 0.3), 0 1px 3px 1px rgba(60, 64, 67, 0.15);\n",
              "    fill: var(--button-hover-fill-color);\n",
              "  }\n",
              "\n",
              "  .colab-df-quickchart-complete:disabled,\n",
              "  .colab-df-quickchart-complete:disabled:hover {\n",
              "    background-color: var(--disabled-bg-color);\n",
              "    fill: var(--disabled-fill-color);\n",
              "    box-shadow: none;\n",
              "  }\n",
              "\n",
              "  .colab-df-spinner {\n",
              "    border: 2px solid var(--fill-color);\n",
              "    border-color: transparent;\n",
              "    border-bottom-color: var(--fill-color);\n",
              "    animation:\n",
              "      spin 1s steps(1) infinite;\n",
              "  }\n",
              "\n",
              "  @keyframes spin {\n",
              "    0% {\n",
              "      border-color: transparent;\n",
              "      border-bottom-color: var(--fill-color);\n",
              "      border-left-color: var(--fill-color);\n",
              "    }\n",
              "    20% {\n",
              "      border-color: transparent;\n",
              "      border-left-color: var(--fill-color);\n",
              "      border-top-color: var(--fill-color);\n",
              "    }\n",
              "    30% {\n",
              "      border-color: transparent;\n",
              "      border-left-color: var(--fill-color);\n",
              "      border-top-color: var(--fill-color);\n",
              "      border-right-color: var(--fill-color);\n",
              "    }\n",
              "    40% {\n",
              "      border-color: transparent;\n",
              "      border-right-color: var(--fill-color);\n",
              "      border-top-color: var(--fill-color);\n",
              "    }\n",
              "    60% {\n",
              "      border-color: transparent;\n",
              "      border-right-color: var(--fill-color);\n",
              "    }\n",
              "    80% {\n",
              "      border-color: transparent;\n",
              "      border-right-color: var(--fill-color);\n",
              "      border-bottom-color: var(--fill-color);\n",
              "    }\n",
              "    90% {\n",
              "      border-color: transparent;\n",
              "      border-bottom-color: var(--fill-color);\n",
              "    }\n",
              "  }\n",
              "</style>\n",
              "\n",
              "  <script>\n",
              "    async function quickchart(key) {\n",
              "      const quickchartButtonEl =\n",
              "        document.querySelector('#' + key + ' button');\n",
              "      quickchartButtonEl.disabled = true;  // To prevent multiple clicks.\n",
              "      quickchartButtonEl.classList.add('colab-df-spinner');\n",
              "      try {\n",
              "        const charts = await google.colab.kernel.invokeFunction(\n",
              "            'suggestCharts', [key], {});\n",
              "      } catch (error) {\n",
              "        console.error('Error during call to suggestCharts:', error);\n",
              "      }\n",
              "      quickchartButtonEl.classList.remove('colab-df-spinner');\n",
              "      quickchartButtonEl.classList.add('colab-df-quickchart-complete');\n",
              "    }\n",
              "    (() => {\n",
              "      let quickchartButtonEl =\n",
              "        document.querySelector('#df-066d806f-b058-4eee-b077-9e7b1780e19e button');\n",
              "      quickchartButtonEl.style.display =\n",
              "        google.colab.kernel.accessAllowed ? 'block' : 'none';\n",
              "    })();\n",
              "  </script>\n",
              "</div>\n",
              "\n",
              "    </div>\n",
              "  </div>\n"
            ],
            "application/vnd.google.colaboratory.intrinsic+json": {
              "type": "dataframe",
              "summary": "{\n  \"name\": \"dataset\",\n  \"rows\": 5,\n  \"fields\": [\n    {\n      \"column\": \"age\",\n      \"properties\": {\n        \"dtype\": \"number\",\n        \"std\": 7,\n        \"min\": 43,\n        \"max\": 62,\n        \"num_unique_values\": 5,\n        \"samples\": [\n          43,\n          45,\n          50\n        ],\n        \"semantic_type\": \"\",\n        \"description\": \"\"\n      }\n    },\n    {\n      \"column\": \"sex\",\n      \"properties\": {\n        \"dtype\": \"number\",\n        \"std\": 0,\n        \"min\": 0,\n        \"max\": 1,\n        \"num_unique_values\": 2,\n        \"samples\": [\n          0,\n          1\n        ],\n        \"semantic_type\": \"\",\n        \"description\": \"\"\n      }\n    },\n    {\n      \"column\": \"cp\",\n      \"properties\": {\n        \"dtype\": \"number\",\n        \"std\": 1,\n        \"min\": 0,\n        \"max\": 2,\n        \"num_unique_values\": 2,\n        \"samples\": [\n          0,\n          2\n        ],\n        \"semantic_type\": \"\",\n        \"description\": \"\"\n      }\n    },\n    {\n      \"column\": \"trestbps\",\n      \"properties\": {\n        \"dtype\": \"number\",\n        \"std\": 8,\n        \"min\": 120,\n        \"max\": 142,\n        \"num_unique_values\": 5,\n        \"samples\": [\n          132,\n          142\n        ],\n        \"semantic_type\": \"\",\n        \"description\": \"\"\n      }\n    },\n    {\n      \"column\": \"chol\",\n      \"properties\": {\n        \"dtype\": \"number\",\n        \"std\": 38,\n        \"min\": 209,\n        \"max\": 309,\n        \"num_unique_values\": 5,\n        \"samples\": [\n          247,\n          309\n        ],\n        \"semantic_type\": \"\",\n        \"description\": \"\"\n      }\n    },\n    {\n      \"column\": \"fbs\",\n      \"properties\": {\n        \"dtype\": \"number\",\n        \"std\": 0,\n        \"min\": 0,\n        \"max\": 1,\n        \"num_unique_values\": 2,\n        \"samples\": [\n          0,\n          1\n        ],\n        \"semantic_type\": \"\",\n        \"description\": \"\"\n      }\n    },\n    {\n      \"column\": \"restecg\",\n      \"properties\": {\n        \"dtype\": \"number\",\n        \"std\": 0,\n        \"min\": 0,\n        \"max\": 1,\n        \"num_unique_values\": 2,\n        \"samples\": [\n          1,\n          0\n        ],\n        \"semantic_type\": \"\",\n        \"description\": \"\"\n      }\n    },\n    {\n      \"column\": \"thalach\",\n      \"properties\": {\n        \"dtype\": \"number\",\n        \"std\": 10,\n        \"min\": 143,\n        \"max\": 166,\n        \"num_unique_values\": 5,\n        \"samples\": [\n          143,\n          147\n        ],\n        \"semantic_type\": \"\",\n        \"description\": \"\"\n      }\n    },\n    {\n      \"column\": \"exang\",\n      \"properties\": {\n        \"dtype\": \"number\",\n        \"std\": 0,\n        \"min\": 0,\n        \"max\": 1,\n        \"num_unique_values\": 2,\n        \"samples\": [\n          1,\n          0\n        ],\n        \"semantic_type\": \"\",\n        \"description\": \"\"\n      }\n    },\n    {\n      \"column\": \"oldpeak\",\n      \"properties\": {\n        \"dtype\": \"number\",\n        \"std\": 1.1144505372604026,\n        \"min\": 0.0,\n        \"max\": 2.4,\n        \"num_unique_values\": 4,\n        \"samples\": [\n          0.1,\n          0.0\n        ],\n        \"semantic_type\": \"\",\n        \"description\": \"\"\n      }\n    },\n    {\n      \"column\": \"slope\",\n      \"properties\": {\n        \"dtype\": \"number\",\n        \"std\": 0,\n        \"min\": 1,\n        \"max\": 2,\n        \"num_unique_values\": 2,\n        \"samples\": [\n          2,\n          1\n        ],\n        \"semantic_type\": \"\",\n        \"description\": \"\"\n      }\n    },\n    {\n      \"column\": \"ca\",\n      \"properties\": {\n        \"dtype\": \"number\",\n        \"std\": 1,\n        \"min\": 0,\n        \"max\": 4,\n        \"num_unique_values\": 3,\n        \"samples\": [\n          0,\n          4\n        ],\n        \"semantic_type\": \"\",\n        \"description\": \"\"\n      }\n    },\n    {\n      \"column\": \"thal\",\n      \"properties\": {\n        \"dtype\": \"number\",\n        \"std\": 0,\n        \"min\": 2,\n        \"max\": 3,\n        \"num_unique_values\": 2,\n        \"samples\": [\n          3,\n          2\n        ],\n        \"semantic_type\": \"\",\n        \"description\": \"\"\n      }\n    },\n    {\n      \"column\": \"target\",\n      \"properties\": {\n        \"dtype\": \"number\",\n        \"std\": 0,\n        \"min\": 0,\n        \"max\": 1,\n        \"num_unique_values\": 2,\n        \"samples\": [\n          0,\n          1\n        ],\n        \"semantic_type\": \"\",\n        \"description\": \"\"\n      }\n    }\n  ]\n}"
            }
          },
          "metadata": {},
          "execution_count": 74
        }
      ],
      "source": [
        "dataset.sample(5)"
      ]
    },
    {
      "cell_type": "markdown",
      "metadata": {
        "_uuid": "1113236bec2848d33c5bfe088ff0d03246b8b7ce",
        "id": "aZ6MFHB-b3Ln"
      },
      "source": [
        "#### Description"
      ]
    },
    {
      "cell_type": "code",
      "execution_count": 75,
      "metadata": {
        "_uuid": "c31619815cb0dae5586985671fdc21110b39a821",
        "colab": {
          "base_uri": "https://localhost:8080/",
          "height": 300
        },
        "id": "jCaI8ZSmb3Lo",
        "outputId": "fe647493-1963-426a-bede-8e345c42ffe4"
      },
      "outputs": [
        {
          "output_type": "execute_result",
          "data": {
            "text/plain": [
              "              age         sex          cp    trestbps        chol         fbs  \\\n",
              "count  303.000000  303.000000  303.000000  303.000000  303.000000  303.000000   \n",
              "mean    54.366337    0.683168    0.966997  131.623762  246.264026    0.148515   \n",
              "std      9.082101    0.466011    1.032052   17.538143   51.830751    0.356198   \n",
              "min     29.000000    0.000000    0.000000   94.000000  126.000000    0.000000   \n",
              "25%     47.500000    0.000000    0.000000  120.000000  211.000000    0.000000   \n",
              "50%     55.000000    1.000000    1.000000  130.000000  240.000000    0.000000   \n",
              "75%     61.000000    1.000000    2.000000  140.000000  274.500000    0.000000   \n",
              "max     77.000000    1.000000    3.000000  200.000000  564.000000    1.000000   \n",
              "\n",
              "          restecg     thalach       exang     oldpeak       slope          ca  \\\n",
              "count  303.000000  303.000000  303.000000  303.000000  303.000000  303.000000   \n",
              "mean     0.528053  149.646865    0.326733    1.039604    1.399340    0.729373   \n",
              "std      0.525860   22.905161    0.469794    1.161075    0.616226    1.022606   \n",
              "min      0.000000   71.000000    0.000000    0.000000    0.000000    0.000000   \n",
              "25%      0.000000  133.500000    0.000000    0.000000    1.000000    0.000000   \n",
              "50%      1.000000  153.000000    0.000000    0.800000    1.000000    0.000000   \n",
              "75%      1.000000  166.000000    1.000000    1.600000    2.000000    1.000000   \n",
              "max      2.000000  202.000000    1.000000    6.200000    2.000000    4.000000   \n",
              "\n",
              "             thal      target  \n",
              "count  303.000000  303.000000  \n",
              "mean     2.313531    0.544554  \n",
              "std      0.612277    0.498835  \n",
              "min      0.000000    0.000000  \n",
              "25%      2.000000    0.000000  \n",
              "50%      2.000000    1.000000  \n",
              "75%      3.000000    1.000000  \n",
              "max      3.000000    1.000000  "
            ],
            "text/html": [
              "\n",
              "  <div id=\"df-44296be8-dcb5-4e8e-83dd-81eaad8667cd\" class=\"colab-df-container\">\n",
              "    <div>\n",
              "<style scoped>\n",
              "    .dataframe tbody tr th:only-of-type {\n",
              "        vertical-align: middle;\n",
              "    }\n",
              "\n",
              "    .dataframe tbody tr th {\n",
              "        vertical-align: top;\n",
              "    }\n",
              "\n",
              "    .dataframe thead th {\n",
              "        text-align: right;\n",
              "    }\n",
              "</style>\n",
              "<table border=\"1\" class=\"dataframe\">\n",
              "  <thead>\n",
              "    <tr style=\"text-align: right;\">\n",
              "      <th></th>\n",
              "      <th>age</th>\n",
              "      <th>sex</th>\n",
              "      <th>cp</th>\n",
              "      <th>trestbps</th>\n",
              "      <th>chol</th>\n",
              "      <th>fbs</th>\n",
              "      <th>restecg</th>\n",
              "      <th>thalach</th>\n",
              "      <th>exang</th>\n",
              "      <th>oldpeak</th>\n",
              "      <th>slope</th>\n",
              "      <th>ca</th>\n",
              "      <th>thal</th>\n",
              "      <th>target</th>\n",
              "    </tr>\n",
              "  </thead>\n",
              "  <tbody>\n",
              "    <tr>\n",
              "      <th>count</th>\n",
              "      <td>303.000000</td>\n",
              "      <td>303.000000</td>\n",
              "      <td>303.000000</td>\n",
              "      <td>303.000000</td>\n",
              "      <td>303.000000</td>\n",
              "      <td>303.000000</td>\n",
              "      <td>303.000000</td>\n",
              "      <td>303.000000</td>\n",
              "      <td>303.000000</td>\n",
              "      <td>303.000000</td>\n",
              "      <td>303.000000</td>\n",
              "      <td>303.000000</td>\n",
              "      <td>303.000000</td>\n",
              "      <td>303.000000</td>\n",
              "    </tr>\n",
              "    <tr>\n",
              "      <th>mean</th>\n",
              "      <td>54.366337</td>\n",
              "      <td>0.683168</td>\n",
              "      <td>0.966997</td>\n",
              "      <td>131.623762</td>\n",
              "      <td>246.264026</td>\n",
              "      <td>0.148515</td>\n",
              "      <td>0.528053</td>\n",
              "      <td>149.646865</td>\n",
              "      <td>0.326733</td>\n",
              "      <td>1.039604</td>\n",
              "      <td>1.399340</td>\n",
              "      <td>0.729373</td>\n",
              "      <td>2.313531</td>\n",
              "      <td>0.544554</td>\n",
              "    </tr>\n",
              "    <tr>\n",
              "      <th>std</th>\n",
              "      <td>9.082101</td>\n",
              "      <td>0.466011</td>\n",
              "      <td>1.032052</td>\n",
              "      <td>17.538143</td>\n",
              "      <td>51.830751</td>\n",
              "      <td>0.356198</td>\n",
              "      <td>0.525860</td>\n",
              "      <td>22.905161</td>\n",
              "      <td>0.469794</td>\n",
              "      <td>1.161075</td>\n",
              "      <td>0.616226</td>\n",
              "      <td>1.022606</td>\n",
              "      <td>0.612277</td>\n",
              "      <td>0.498835</td>\n",
              "    </tr>\n",
              "    <tr>\n",
              "      <th>min</th>\n",
              "      <td>29.000000</td>\n",
              "      <td>0.000000</td>\n",
              "      <td>0.000000</td>\n",
              "      <td>94.000000</td>\n",
              "      <td>126.000000</td>\n",
              "      <td>0.000000</td>\n",
              "      <td>0.000000</td>\n",
              "      <td>71.000000</td>\n",
              "      <td>0.000000</td>\n",
              "      <td>0.000000</td>\n",
              "      <td>0.000000</td>\n",
              "      <td>0.000000</td>\n",
              "      <td>0.000000</td>\n",
              "      <td>0.000000</td>\n",
              "    </tr>\n",
              "    <tr>\n",
              "      <th>25%</th>\n",
              "      <td>47.500000</td>\n",
              "      <td>0.000000</td>\n",
              "      <td>0.000000</td>\n",
              "      <td>120.000000</td>\n",
              "      <td>211.000000</td>\n",
              "      <td>0.000000</td>\n",
              "      <td>0.000000</td>\n",
              "      <td>133.500000</td>\n",
              "      <td>0.000000</td>\n",
              "      <td>0.000000</td>\n",
              "      <td>1.000000</td>\n",
              "      <td>0.000000</td>\n",
              "      <td>2.000000</td>\n",
              "      <td>0.000000</td>\n",
              "    </tr>\n",
              "    <tr>\n",
              "      <th>50%</th>\n",
              "      <td>55.000000</td>\n",
              "      <td>1.000000</td>\n",
              "      <td>1.000000</td>\n",
              "      <td>130.000000</td>\n",
              "      <td>240.000000</td>\n",
              "      <td>0.000000</td>\n",
              "      <td>1.000000</td>\n",
              "      <td>153.000000</td>\n",
              "      <td>0.000000</td>\n",
              "      <td>0.800000</td>\n",
              "      <td>1.000000</td>\n",
              "      <td>0.000000</td>\n",
              "      <td>2.000000</td>\n",
              "      <td>1.000000</td>\n",
              "    </tr>\n",
              "    <tr>\n",
              "      <th>75%</th>\n",
              "      <td>61.000000</td>\n",
              "      <td>1.000000</td>\n",
              "      <td>2.000000</td>\n",
              "      <td>140.000000</td>\n",
              "      <td>274.500000</td>\n",
              "      <td>0.000000</td>\n",
              "      <td>1.000000</td>\n",
              "      <td>166.000000</td>\n",
              "      <td>1.000000</td>\n",
              "      <td>1.600000</td>\n",
              "      <td>2.000000</td>\n",
              "      <td>1.000000</td>\n",
              "      <td>3.000000</td>\n",
              "      <td>1.000000</td>\n",
              "    </tr>\n",
              "    <tr>\n",
              "      <th>max</th>\n",
              "      <td>77.000000</td>\n",
              "      <td>1.000000</td>\n",
              "      <td>3.000000</td>\n",
              "      <td>200.000000</td>\n",
              "      <td>564.000000</td>\n",
              "      <td>1.000000</td>\n",
              "      <td>2.000000</td>\n",
              "      <td>202.000000</td>\n",
              "      <td>1.000000</td>\n",
              "      <td>6.200000</td>\n",
              "      <td>2.000000</td>\n",
              "      <td>4.000000</td>\n",
              "      <td>3.000000</td>\n",
              "      <td>1.000000</td>\n",
              "    </tr>\n",
              "  </tbody>\n",
              "</table>\n",
              "</div>\n",
              "    <div class=\"colab-df-buttons\">\n",
              "\n",
              "  <div class=\"colab-df-container\">\n",
              "    <button class=\"colab-df-convert\" onclick=\"convertToInteractive('df-44296be8-dcb5-4e8e-83dd-81eaad8667cd')\"\n",
              "            title=\"Convert this dataframe to an interactive table.\"\n",
              "            style=\"display:none;\">\n",
              "\n",
              "  <svg xmlns=\"http://www.w3.org/2000/svg\" height=\"24px\" viewBox=\"0 -960 960 960\">\n",
              "    <path d=\"M120-120v-720h720v720H120Zm60-500h600v-160H180v160Zm220 220h160v-160H400v160Zm0 220h160v-160H400v160ZM180-400h160v-160H180v160Zm440 0h160v-160H620v160ZM180-180h160v-160H180v160Zm440 0h160v-160H620v160Z\"/>\n",
              "  </svg>\n",
              "    </button>\n",
              "\n",
              "  <style>\n",
              "    .colab-df-container {\n",
              "      display:flex;\n",
              "      gap: 12px;\n",
              "    }\n",
              "\n",
              "    .colab-df-convert {\n",
              "      background-color: #E8F0FE;\n",
              "      border: none;\n",
              "      border-radius: 50%;\n",
              "      cursor: pointer;\n",
              "      display: none;\n",
              "      fill: #1967D2;\n",
              "      height: 32px;\n",
              "      padding: 0 0 0 0;\n",
              "      width: 32px;\n",
              "    }\n",
              "\n",
              "    .colab-df-convert:hover {\n",
              "      background-color: #E2EBFA;\n",
              "      box-shadow: 0px 1px 2px rgba(60, 64, 67, 0.3), 0px 1px 3px 1px rgba(60, 64, 67, 0.15);\n",
              "      fill: #174EA6;\n",
              "    }\n",
              "\n",
              "    .colab-df-buttons div {\n",
              "      margin-bottom: 4px;\n",
              "    }\n",
              "\n",
              "    [theme=dark] .colab-df-convert {\n",
              "      background-color: #3B4455;\n",
              "      fill: #D2E3FC;\n",
              "    }\n",
              "\n",
              "    [theme=dark] .colab-df-convert:hover {\n",
              "      background-color: #434B5C;\n",
              "      box-shadow: 0px 1px 3px 1px rgba(0, 0, 0, 0.15);\n",
              "      filter: drop-shadow(0px 1px 2px rgba(0, 0, 0, 0.3));\n",
              "      fill: #FFFFFF;\n",
              "    }\n",
              "  </style>\n",
              "\n",
              "    <script>\n",
              "      const buttonEl =\n",
              "        document.querySelector('#df-44296be8-dcb5-4e8e-83dd-81eaad8667cd button.colab-df-convert');\n",
              "      buttonEl.style.display =\n",
              "        google.colab.kernel.accessAllowed ? 'block' : 'none';\n",
              "\n",
              "      async function convertToInteractive(key) {\n",
              "        const element = document.querySelector('#df-44296be8-dcb5-4e8e-83dd-81eaad8667cd');\n",
              "        const dataTable =\n",
              "          await google.colab.kernel.invokeFunction('convertToInteractive',\n",
              "                                                    [key], {});\n",
              "        if (!dataTable) return;\n",
              "\n",
              "        const docLinkHtml = 'Like what you see? Visit the ' +\n",
              "          '<a target=\"_blank\" href=https://colab.research.google.com/notebooks/data_table.ipynb>data table notebook</a>'\n",
              "          + ' to learn more about interactive tables.';\n",
              "        element.innerHTML = '';\n",
              "        dataTable['output_type'] = 'display_data';\n",
              "        await google.colab.output.renderOutput(dataTable, element);\n",
              "        const docLink = document.createElement('div');\n",
              "        docLink.innerHTML = docLinkHtml;\n",
              "        element.appendChild(docLink);\n",
              "      }\n",
              "    </script>\n",
              "  </div>\n",
              "\n",
              "\n",
              "<div id=\"df-788ac097-5f93-4a29-8a40-80c2ef96c256\">\n",
              "  <button class=\"colab-df-quickchart\" onclick=\"quickchart('df-788ac097-5f93-4a29-8a40-80c2ef96c256')\"\n",
              "            title=\"Suggest charts\"\n",
              "            style=\"display:none;\">\n",
              "\n",
              "<svg xmlns=\"http://www.w3.org/2000/svg\" height=\"24px\"viewBox=\"0 0 24 24\"\n",
              "     width=\"24px\">\n",
              "    <g>\n",
              "        <path d=\"M19 3H5c-1.1 0-2 .9-2 2v14c0 1.1.9 2 2 2h14c1.1 0 2-.9 2-2V5c0-1.1-.9-2-2-2zM9 17H7v-7h2v7zm4 0h-2V7h2v10zm4 0h-2v-4h2v4z\"/>\n",
              "    </g>\n",
              "</svg>\n",
              "  </button>\n",
              "\n",
              "<style>\n",
              "  .colab-df-quickchart {\n",
              "      --bg-color: #E8F0FE;\n",
              "      --fill-color: #1967D2;\n",
              "      --hover-bg-color: #E2EBFA;\n",
              "      --hover-fill-color: #174EA6;\n",
              "      --disabled-fill-color: #AAA;\n",
              "      --disabled-bg-color: #DDD;\n",
              "  }\n",
              "\n",
              "  [theme=dark] .colab-df-quickchart {\n",
              "      --bg-color: #3B4455;\n",
              "      --fill-color: #D2E3FC;\n",
              "      --hover-bg-color: #434B5C;\n",
              "      --hover-fill-color: #FFFFFF;\n",
              "      --disabled-bg-color: #3B4455;\n",
              "      --disabled-fill-color: #666;\n",
              "  }\n",
              "\n",
              "  .colab-df-quickchart {\n",
              "    background-color: var(--bg-color);\n",
              "    border: none;\n",
              "    border-radius: 50%;\n",
              "    cursor: pointer;\n",
              "    display: none;\n",
              "    fill: var(--fill-color);\n",
              "    height: 32px;\n",
              "    padding: 0;\n",
              "    width: 32px;\n",
              "  }\n",
              "\n",
              "  .colab-df-quickchart:hover {\n",
              "    background-color: var(--hover-bg-color);\n",
              "    box-shadow: 0 1px 2px rgba(60, 64, 67, 0.3), 0 1px 3px 1px rgba(60, 64, 67, 0.15);\n",
              "    fill: var(--button-hover-fill-color);\n",
              "  }\n",
              "\n",
              "  .colab-df-quickchart-complete:disabled,\n",
              "  .colab-df-quickchart-complete:disabled:hover {\n",
              "    background-color: var(--disabled-bg-color);\n",
              "    fill: var(--disabled-fill-color);\n",
              "    box-shadow: none;\n",
              "  }\n",
              "\n",
              "  .colab-df-spinner {\n",
              "    border: 2px solid var(--fill-color);\n",
              "    border-color: transparent;\n",
              "    border-bottom-color: var(--fill-color);\n",
              "    animation:\n",
              "      spin 1s steps(1) infinite;\n",
              "  }\n",
              "\n",
              "  @keyframes spin {\n",
              "    0% {\n",
              "      border-color: transparent;\n",
              "      border-bottom-color: var(--fill-color);\n",
              "      border-left-color: var(--fill-color);\n",
              "    }\n",
              "    20% {\n",
              "      border-color: transparent;\n",
              "      border-left-color: var(--fill-color);\n",
              "      border-top-color: var(--fill-color);\n",
              "    }\n",
              "    30% {\n",
              "      border-color: transparent;\n",
              "      border-left-color: var(--fill-color);\n",
              "      border-top-color: var(--fill-color);\n",
              "      border-right-color: var(--fill-color);\n",
              "    }\n",
              "    40% {\n",
              "      border-color: transparent;\n",
              "      border-right-color: var(--fill-color);\n",
              "      border-top-color: var(--fill-color);\n",
              "    }\n",
              "    60% {\n",
              "      border-color: transparent;\n",
              "      border-right-color: var(--fill-color);\n",
              "    }\n",
              "    80% {\n",
              "      border-color: transparent;\n",
              "      border-right-color: var(--fill-color);\n",
              "      border-bottom-color: var(--fill-color);\n",
              "    }\n",
              "    90% {\n",
              "      border-color: transparent;\n",
              "      border-bottom-color: var(--fill-color);\n",
              "    }\n",
              "  }\n",
              "</style>\n",
              "\n",
              "  <script>\n",
              "    async function quickchart(key) {\n",
              "      const quickchartButtonEl =\n",
              "        document.querySelector('#' + key + ' button');\n",
              "      quickchartButtonEl.disabled = true;  // To prevent multiple clicks.\n",
              "      quickchartButtonEl.classList.add('colab-df-spinner');\n",
              "      try {\n",
              "        const charts = await google.colab.kernel.invokeFunction(\n",
              "            'suggestCharts', [key], {});\n",
              "      } catch (error) {\n",
              "        console.error('Error during call to suggestCharts:', error);\n",
              "      }\n",
              "      quickchartButtonEl.classList.remove('colab-df-spinner');\n",
              "      quickchartButtonEl.classList.add('colab-df-quickchart-complete');\n",
              "    }\n",
              "    (() => {\n",
              "      let quickchartButtonEl =\n",
              "        document.querySelector('#df-788ac097-5f93-4a29-8a40-80c2ef96c256 button');\n",
              "      quickchartButtonEl.style.display =\n",
              "        google.colab.kernel.accessAllowed ? 'block' : 'none';\n",
              "    })();\n",
              "  </script>\n",
              "</div>\n",
              "\n",
              "    </div>\n",
              "  </div>\n"
            ],
            "application/vnd.google.colaboratory.intrinsic+json": {
              "type": "dataframe",
              "summary": "{\n  \"name\": \"dataset\",\n  \"rows\": 8,\n  \"fields\": [\n    {\n      \"column\": \"age\",\n      \"properties\": {\n        \"dtype\": \"number\",\n        \"std\": 92.63263171018461,\n        \"min\": 9.082100989837857,\n        \"max\": 303.0,\n        \"num_unique_values\": 8,\n        \"samples\": [\n          54.366336633663366,\n          55.0,\n          303.0\n        ],\n        \"semantic_type\": \"\",\n        \"description\": \"\"\n      }\n    },\n    {\n      \"column\": \"sex\",\n      \"properties\": {\n        \"dtype\": \"number\",\n        \"std\": 106.91793021099774,\n        \"min\": 0.0,\n        \"max\": 303.0,\n        \"num_unique_values\": 5,\n        \"samples\": [\n          0.6831683168316832,\n          1.0,\n          0.46601082333962385\n        ],\n        \"semantic_type\": \"\",\n        \"description\": \"\"\n      }\n    },\n    {\n      \"column\": \"cp\",\n      \"properties\": {\n        \"dtype\": \"number\",\n        \"std\": 106.72725528212327,\n        \"min\": 0.0,\n        \"max\": 303.0,\n        \"num_unique_values\": 7,\n        \"samples\": [\n          303.0,\n          0.966996699669967,\n          2.0\n        ],\n        \"semantic_type\": \"\",\n        \"description\": \"\"\n      }\n    },\n    {\n      \"column\": \"trestbps\",\n      \"properties\": {\n        \"dtype\": \"number\",\n        \"std\": 82.65195263865039,\n        \"min\": 17.5381428135171,\n        \"max\": 303.0,\n        \"num_unique_values\": 8,\n        \"samples\": [\n          131.62376237623764,\n          130.0,\n          303.0\n        ],\n        \"semantic_type\": \"\",\n        \"description\": \"\"\n      }\n    },\n    {\n      \"column\": \"chol\",\n      \"properties\": {\n        \"dtype\": \"number\",\n        \"std\": 150.35806568851743,\n        \"min\": 51.83075098793003,\n        \"max\": 564.0,\n        \"num_unique_values\": 8,\n        \"samples\": [\n          246.26402640264027,\n          240.0,\n          303.0\n        ],\n        \"semantic_type\": \"\",\n        \"description\": \"\"\n      }\n    },\n    {\n      \"column\": \"fbs\",\n      \"properties\": {\n        \"dtype\": \"number\",\n        \"std\": 107.0512286741478,\n        \"min\": 0.0,\n        \"max\": 303.0,\n        \"num_unique_values\": 5,\n        \"samples\": [\n          0.1485148514851485,\n          1.0,\n          0.35619787492797644\n        ],\n        \"semantic_type\": \"\",\n        \"description\": \"\"\n      }\n    },\n    {\n      \"column\": \"restecg\",\n      \"properties\": {\n        \"dtype\": \"number\",\n        \"std\": 106.8733588009897,\n        \"min\": 0.0,\n        \"max\": 303.0,\n        \"num_unique_values\": 6,\n        \"samples\": [\n          303.0,\n          0.528052805280528,\n          2.0\n        ],\n        \"semantic_type\": \"\",\n        \"description\": \"\"\n      }\n    },\n    {\n      \"column\": \"thalach\",\n      \"properties\": {\n        \"dtype\": \"number\",\n        \"std\": 83.70384393886218,\n        \"min\": 22.905161114914094,\n        \"max\": 303.0,\n        \"num_unique_values\": 8,\n        \"samples\": [\n          149.64686468646866,\n          153.0,\n          303.0\n        ],\n        \"semantic_type\": \"\",\n        \"description\": \"\"\n      }\n    },\n    {\n      \"column\": \"exang\",\n      \"properties\": {\n        \"dtype\": \"number\",\n        \"std\": 106.9862394088184,\n        \"min\": 0.0,\n        \"max\": 303.0,\n        \"num_unique_values\": 5,\n        \"samples\": [\n          0.32673267326732675,\n          1.0,\n          0.4697944645223165\n        ],\n        \"semantic_type\": \"\",\n        \"description\": \"\"\n      }\n    },\n    {\n      \"column\": \"oldpeak\",\n      \"properties\": {\n        \"dtype\": \"number\",\n        \"std\": 106.59952466080658,\n        \"min\": 0.0,\n        \"max\": 303.0,\n        \"num_unique_values\": 7,\n        \"samples\": [\n          303.0,\n          1.0396039603960396,\n          1.6\n        ],\n        \"semantic_type\": \"\",\n        \"description\": \"\"\n      }\n    },\n    {\n      \"column\": \"slope\",\n      \"properties\": {\n        \"dtype\": \"number\",\n        \"std\": 106.72394469173834,\n        \"min\": 0.0,\n        \"max\": 303.0,\n        \"num_unique_values\": 6,\n        \"samples\": [\n          303.0,\n          1.3993399339933994,\n          2.0\n        ],\n        \"semantic_type\": \"\",\n        \"description\": \"\"\n      }\n    },\n    {\n      \"column\": \"ca\",\n      \"properties\": {\n        \"dtype\": \"number\",\n        \"std\": 106.79372080487734,\n        \"min\": 0.0,\n        \"max\": 303.0,\n        \"num_unique_values\": 6,\n        \"samples\": [\n          303.0,\n          0.7293729372937293,\n          4.0\n        ],\n        \"semantic_type\": \"\",\n        \"description\": \"\"\n      }\n    },\n    {\n      \"column\": \"thal\",\n      \"properties\": {\n        \"dtype\": \"number\",\n        \"std\": 106.47909774814387,\n        \"min\": 0.0,\n        \"max\": 303.0,\n        \"num_unique_values\": 6,\n        \"samples\": [\n          303.0,\n          2.3135313531353137,\n          3.0\n        ],\n        \"semantic_type\": \"\",\n        \"description\": \"\"\n      }\n    },\n    {\n      \"column\": \"target\",\n      \"properties\": {\n        \"dtype\": \"number\",\n        \"std\": 106.92326354929804,\n        \"min\": 0.0,\n        \"max\": 303.0,\n        \"num_unique_values\": 5,\n        \"samples\": [\n          0.5445544554455446,\n          1.0,\n          0.4988347841643913\n        ],\n        \"semantic_type\": \"\",\n        \"description\": \"\"\n      }\n    }\n  ]\n}"
            }
          },
          "metadata": {},
          "execution_count": 75
        }
      ],
      "source": [
        "dataset.describe()"
      ]
    },
    {
      "cell_type": "code",
      "execution_count": 76,
      "metadata": {
        "_uuid": "718b82039841c137ab7e08a6e79e264643134642",
        "colab": {
          "base_uri": "https://localhost:8080/"
        },
        "id": "g4NStOl5b3Lo",
        "outputId": "0bfe7563-629d-4952-f2f1-65824327ef61"
      },
      "outputs": [
        {
          "output_type": "stream",
          "name": "stdout",
          "text": [
            "<class 'pandas.core.frame.DataFrame'>\n",
            "RangeIndex: 303 entries, 0 to 302\n",
            "Data columns (total 14 columns):\n",
            " #   Column    Non-Null Count  Dtype  \n",
            "---  ------    --------------  -----  \n",
            " 0   age       303 non-null    int64  \n",
            " 1   sex       303 non-null    int64  \n",
            " 2   cp        303 non-null    int64  \n",
            " 3   trestbps  303 non-null    int64  \n",
            " 4   chol      303 non-null    int64  \n",
            " 5   fbs       303 non-null    int64  \n",
            " 6   restecg   303 non-null    int64  \n",
            " 7   thalach   303 non-null    int64  \n",
            " 8   exang     303 non-null    int64  \n",
            " 9   oldpeak   303 non-null    float64\n",
            " 10  slope     303 non-null    int64  \n",
            " 11  ca        303 non-null    int64  \n",
            " 12  thal      303 non-null    int64  \n",
            " 13  target    303 non-null    int64  \n",
            "dtypes: float64(1), int64(13)\n",
            "memory usage: 33.3 KB\n"
          ]
        }
      ],
      "source": [
        "dataset.info()"
      ]
    },
    {
      "cell_type": "code",
      "execution_count": 77,
      "metadata": {
        "_uuid": "99d7182ca186d37f63b1fc433fe74ad5e2bc7d2f",
        "id": "z3zVjq55b3Lo"
      },
      "outputs": [],
      "source": [
        "###Luckily, we have no missing values"
      ]
    },
    {
      "cell_type": "markdown",
      "metadata": {
        "_uuid": "85b59fefde7c5ecdb50e3b8da0cb719f4e14630f",
        "id": "dgR1EZYMb3Lo"
      },
      "source": [
        "#### Let's understand our columns better:"
      ]
    },
    {
      "cell_type": "code",
      "execution_count": 78,
      "metadata": {
        "_uuid": "5593d1021d54aad598c21f877e57969e6b47f5a8",
        "colab": {
          "base_uri": "https://localhost:8080/"
        },
        "id": "NFiIboPDb3Lp",
        "outputId": "0ed1bb0d-3319-449d-e481-345056b9726a"
      },
      "outputs": [
        {
          "output_type": "stream",
          "name": "stdout",
          "text": [
            "age:\t\t\tage\n",
            "sex:\t\t\t1: male, 0: female\n",
            "cp:\t\t\tchest pain type, 1: typical angina, 2: atypical angina, 3: non-anginal pain, 4: asymptomatic\n",
            "trestbps:\t\t\tresting blood pressure\n",
            "chol:\t\t\t serum cholestoral in mg/dl\n",
            "fbs:\t\t\tfasting blood sugar > 120 mg/dl\n",
            "restecg:\t\t\tresting electrocardiographic results (values 0,1,2)\n",
            "thalach:\t\t\t maximum heart rate achieved\n",
            "exang:\t\t\texercise induced angina\n",
            "oldpeak:\t\t\toldpeak = ST depression induced by exercise relative to rest\n",
            "slope:\t\t\tthe slope of the peak exercise ST segment\n",
            "ca:\t\t\tnumber of major vessels (0-3) colored by flourosopy\n",
            "thal:\t\t\tthal: 3 = normal; 6 = fixed defect; 7 = reversable defect\n"
          ]
        }
      ],
      "source": [
        "info = [\"age\",\"1: male, 0: female\",\"chest pain type, 1: typical angina, 2: atypical angina, 3: non-anginal pain, 4: asymptomatic\",\"resting blood pressure\",\" serum cholestoral in mg/dl\",\"fasting blood sugar > 120 mg/dl\",\"resting electrocardiographic results (values 0,1,2)\",\" maximum heart rate achieved\",\"exercise induced angina\",\"oldpeak = ST depression induced by exercise relative to rest\",\"the slope of the peak exercise ST segment\",\"number of major vessels (0-3) colored by flourosopy\",\"thal: 3 = normal; 6 = fixed defect; 7 = reversable defect\"]\n",
        "\n",
        "\n",
        "\n",
        "for i in range(len(info)):\n",
        "    print(dataset.columns[i]+\":\\t\\t\\t\"+info[i])"
      ]
    },
    {
      "cell_type": "markdown",
      "metadata": {
        "_uuid": "6a970312b67b588610a8579ecc2ba4bac0fcee04",
        "id": "JklghHyfb3Lp"
      },
      "source": [
        "#### Analysing the 'target' variable"
      ]
    },
    {
      "cell_type": "code",
      "execution_count": 79,
      "metadata": {
        "_uuid": "b883243919bd382193ed15e2a90f9b522bf6f1f7",
        "colab": {
          "base_uri": "https://localhost:8080/"
        },
        "id": "bkV7BjNcb3Lp",
        "outputId": "017394ad-4004-4318-fbe7-5f0cab029f8e"
      },
      "outputs": [
        {
          "output_type": "execute_result",
          "data": {
            "text/plain": [
              "count    303.000000\n",
              "mean       0.544554\n",
              "std        0.498835\n",
              "min        0.000000\n",
              "25%        0.000000\n",
              "50%        1.000000\n",
              "75%        1.000000\n",
              "max        1.000000\n",
              "Name: target, dtype: float64"
            ]
          },
          "metadata": {},
          "execution_count": 79
        }
      ],
      "source": [
        "dataset[\"target\"].describe()"
      ]
    },
    {
      "cell_type": "code",
      "execution_count": 80,
      "metadata": {
        "_uuid": "9c107b83e0148914826282bf1f0ab28505d577ab",
        "colab": {
          "base_uri": "https://localhost:8080/"
        },
        "id": "e9eCXuscb3Lp",
        "outputId": "7ecf574b-643e-49fc-d7d2-a3a25f85cf5b"
      },
      "outputs": [
        {
          "output_type": "execute_result",
          "data": {
            "text/plain": [
              "array([1, 0])"
            ]
          },
          "metadata": {},
          "execution_count": 80
        }
      ],
      "source": [
        "dataset[\"target\"].unique()"
      ]
    },
    {
      "cell_type": "markdown",
      "metadata": {
        "_uuid": "8c96e97e3f52844e8c4c6ff069f53bfe97c9982d",
        "id": "SomceR3gb3Lq"
      },
      "source": [
        "#### Clearly, this is a classification problem, with the target variable having values '0' and '1'"
      ]
    },
    {
      "cell_type": "markdown",
      "metadata": {
        "_uuid": "3ae0dfa26e2daf4cfc8e1c6f3b5008d0dab22ec0",
        "id": "UG24m3Ggb3Lq"
      },
      "source": [
        "### Checking correlation between columns"
      ]
    },
    {
      "cell_type": "code",
      "execution_count": 81,
      "metadata": {
        "_uuid": "3059188d3874be2e0c80e13655609ac6a6fc644f",
        "colab": {
          "base_uri": "https://localhost:8080/"
        },
        "id": "7eoCEI1-b3Lq",
        "outputId": "888626ca-4efd-4616-dfa9-afa7417cfd35"
      },
      "outputs": [
        {
          "output_type": "stream",
          "name": "stdout",
          "text": [
            "target      1.000000\n",
            "exang       0.436757\n",
            "cp          0.433798\n",
            "oldpeak     0.430696\n",
            "thalach     0.421741\n",
            "ca          0.391724\n",
            "slope       0.345877\n",
            "thal        0.344029\n",
            "sex         0.280937\n",
            "age         0.225439\n",
            "trestbps    0.144931\n",
            "restecg     0.137230\n",
            "chol        0.085239\n",
            "fbs         0.028046\n",
            "Name: target, dtype: float64\n"
          ]
        }
      ],
      "source": [
        "print(dataset.corr()[\"target\"].abs().sort_values(ascending=False))"
      ]
    },
    {
      "cell_type": "code",
      "execution_count": 82,
      "metadata": {
        "_uuid": "6e8cf6f86952d94764c1021207fa5b383b2b84bf",
        "id": "Hmv0_RoLb3Lq"
      },
      "outputs": [],
      "source": [
        "#This shows that most columns are moderately correlated with target, but 'fbs' is very weakly correlated."
      ]
    },
    {
      "cell_type": "markdown",
      "metadata": {
        "_uuid": "40b6c0a9d03bcab78b87bd41c7df3fe1b930547a",
        "id": "JVlpFM6_b3Lq"
      },
      "source": [
        "## Exploratory Data Analysis (EDA)"
      ]
    },
    {
      "cell_type": "markdown",
      "metadata": {
        "_uuid": "41da6ba94903ad6ee64b1ba6a1462815ae603536",
        "id": "MSPqXC-3b3Lq"
      },
      "source": [
        "### First, analysing the target variable:"
      ]
    },
    {
      "cell_type": "code",
      "execution_count": 83,
      "metadata": {
        "_uuid": "29aa23ccb8e6438688e16346b3474f4cc03bae13",
        "colab": {
          "base_uri": "https://localhost:8080/",
          "height": 504
        },
        "id": "dgcodSr6b3Lq",
        "outputId": "8730acc1-8115-435c-a765-e6ee7f45df50"
      },
      "outputs": [
        {
          "output_type": "stream",
          "name": "stdout",
          "text": [
            "target\n",
            "1    165\n",
            "0    138\n",
            "Name: count, dtype: int64\n"
          ]
        },
        {
          "output_type": "display_data",
          "data": {
            "text/plain": [
              "<Figure size 640x480 with 1 Axes>"
            ],
            "image/png": "[encoded data removed]"
          },
          "metadata": {}
        }
      ],
      "source": [
        "y = dataset[\"target\"]\n",
        "\n",
        "sns.countplot(y)\n",
        "\n",
        "\n",
        "target_temp = dataset.target.value_counts()\n",
        "\n",
        "print(target_temp)"
      ]
    },
    {
      "cell_type": "code",
      "execution_count": 84,
      "metadata": {
        "_uuid": "5240af8bcd12736900050cea077c713d7d9641df",
        "colab": {
          "base_uri": "https://localhost:8080/"
        },
        "id": "2K44Rbwdb3Lr",
        "outputId": "225b121b-e230-4337-a904-e20181424554"
      },
      "outputs": [
        {
          "output_type": "stream",
          "name": "stdout",
          "text": [
            "Percentage of patience without heart problems: 45.54\n",
            "Percentage of patience with heart problems: 54.46\n"
          ]
        }
      ],
      "source": [
        "print(\"Percentage of patience without heart problems: \"+str(round(target_temp[0]*100/303,2)))\n",
        "print(\"Percentage of patience with heart problems: \"+str(round(target_temp[1]*100/303,2)))\n",
        "\n",
        "#Alternatively,\n",
        "# print(\"Percentage of patience with heart problems: \"+str(y.where(y==1).count()*100/303))\n",
        "# print(\"Percentage of patience with heart problems: \"+str(y.where(y==0).count()*100/303))\n",
        "\n",
        "# #Or,\n",
        "# countNoDisease = len(df[df.target == 0])\n",
        "# countHaveDisease = len(df[df.target == 1])"
      ]
    },
    {
      "cell_type": "markdown",
      "metadata": {
        "_uuid": "e7de1da221d4ee72e89c365fecfa7d4506f1b184",
        "id": "WuAQNw1Ob3Lr"
      },
      "source": [
        "### We'll analyse 'sex', 'cp', 'fbs', 'restecg', 'exang', 'slope', 'ca' and 'thal' features"
      ]
    },
    {
      "cell_type": "markdown",
      "metadata": {
        "_uuid": "82f9919a1312b53f22980a0071d077e5b0288d90",
        "id": "cKbLKJOzb3Lr"
      },
      "source": [
        "### Analysing the 'Sex' feature"
      ]
    },
    {
      "cell_type": "code",
      "execution_count": 85,
      "metadata": {
        "_uuid": "07a3fb2f44b82360d0393377029851655bcdcd31",
        "colab": {
          "base_uri": "https://localhost:8080/"
        },
        "id": "0Y-4_OgOb3Lr",
        "outputId": "d4019336-3ebd-4ad9-9222-dccdece348d9"
      },
      "outputs": [
        {
          "output_type": "execute_result",
          "data": {
            "text/plain": [
              "array([1, 0])"
            ]
          },
          "metadata": {},
          "execution_count": 85
        }
      ],
      "source": [
        "dataset[\"sex\"].unique()"
      ]
    },
    {
      "cell_type": "markdown",
      "metadata": {
        "_uuid": "623fe97e454ea061942ec6d948adeb5b7026cc65",
        "id": "T7Izk5mPb3Ls"
      },
      "source": [
        "##### We notice, that as expected, the 'sex' feature has 2 unique features"
      ]
    },
    {
      "cell_type": "code",
      "execution_count": 86,
      "metadata": {
        "_uuid": "5d10e6c167251e6d3b1b82a06159da234eeef721",
        "colab": {
          "base_uri": "https://localhost:8080/",
          "height": 467
        },
        "id": "fufBAhBDb3Ls",
        "outputId": "962c4534-52f0-47a1-86a7-a140d14ca9ef"
      },
      "outputs": [
        {
          "output_type": "execute_result",
          "data": {
            "text/plain": [
              "<Axes: xlabel='sex'>"
            ]
          },
          "metadata": {},
          "execution_count": 86
        },
        {
          "output_type": "display_data",
          "data": {
            "text/plain": [
              "<Figure size 640x480 with 1 Axes>"
            ],
            "image/png": "[encoded data removed]"
          },
          "metadata": {}
        }
      ],
      "source": [
        "sns.barplot(x=\"sex\", data=dataset)"
      ]
    },
    {
      "cell_type": "markdown",
      "metadata": {
        "_uuid": "31142d6b72ae034487a088860fe9c7ff85cf7ca2",
        "id": "vS3PPSWrb3Ls"
      },
      "source": [
        "##### We notice, that females are more likely to have heart problems than males"
      ]
    },
    {
      "cell_type": "markdown",
      "metadata": {
        "_uuid": "f7bbd747b02746eadfa2b525544509c8545ac1af",
        "id": "mz-mVVyVb3Ls"
      },
      "source": [
        "### Analysing the 'Chest Pain Type' feature"
      ]
    },
    {
      "cell_type": "code",
      "execution_count": 87,
      "metadata": {
        "_uuid": "7c795d4a86ee05d58e10a412add90065afbd4a70",
        "colab": {
          "base_uri": "https://localhost:8080/"
        },
        "id": "PAlWd39Rb3Ls",
        "outputId": "49d8bb2d-6fdd-423b-b069-ca81b4c5308b"
      },
      "outputs": [
        {
          "output_type": "execute_result",
          "data": {
            "text/plain": [
              "array([3, 2, 1, 0])"
            ]
          },
          "metadata": {},
          "execution_count": 87
        }
      ],
      "source": [
        "dataset[\"cp\"].unique()"
      ]
    },
    {
      "cell_type": "markdown",
      "metadata": {
        "_uuid": "4e83947e6876ffa63837c7e5ce1364a53cbfa499",
        "id": "5sw73fbYb3Ls"
      },
      "source": [
        "##### As expected, the CP feature has values from 0 to 3"
      ]
    },
    {
      "cell_type": "code",
      "execution_count": 88,
      "metadata": {
        "_uuid": "56d6ed2b3d8d20a61814980cd459502b452d14c1",
        "colab": {
          "base_uri": "https://localhost:8080/",
          "height": 433
        },
        "id": "2bNrRzL6b3Lt",
        "outputId": "baf5b725-433c-44ee-cb16-e682735c8aef"
      },
      "outputs": [
        {
          "output_type": "execute_result",
          "data": {
            "text/plain": [
              "<Axes: ylabel='cp'>"
            ]
          },
          "metadata": {},
          "execution_count": 88
        },
        {
          "output_type": "display_data",
          "data": {
            "text/plain": [
              "<Figure size 640x480 with 1 Axes>"
            ],
            "image/png": "[encoded data removed]"
          },
          "metadata": {}
        }
      ],
      "source": [
        "\n",
        "sns.barplot(y=\"cp\", data=dataset)"
      ]
    },
    {
      "cell_type": "markdown",
      "metadata": {
        "_uuid": "510c7c3a7386a7e308cc6052025dc806fad61534",
        "id": "50-0FnLjb3Lu"
      },
      "source": [
        "##### We notice, that chest pain of '0', i.e. the ones with typical angina are much less likely to have heart problems"
      ]
    },
    {
      "cell_type": "markdown",
      "metadata": {
        "_uuid": "bb50bd1cedd31d29683e2411439368aa1390e7ef",
        "id": "k6Z_zNt4b3Lu"
      },
      "source": [
        "### Analysing the FBS feature"
      ]
    },
    {
      "cell_type": "code",
      "execution_count": 89,
      "metadata": {
        "_uuid": "55f9ca01da5294b5404f3eb14d202ae90e0ea1bf",
        "colab": {
          "base_uri": "https://localhost:8080/"
        },
        "id": "a7WU_Z7jb3Lu",
        "outputId": "98345a93-b19d-4a77-8571-99235d1ee551"
      },
      "outputs": [
        {
          "output_type": "execute_result",
          "data": {
            "text/plain": [
              "count    303.000000\n",
              "mean       0.148515\n",
              "std        0.356198\n",
              "min        0.000000\n",
              "25%        0.000000\n",
              "50%        0.000000\n",
              "75%        0.000000\n",
              "max        1.000000\n",
              "Name: fbs, dtype: float64"
            ]
          },
          "metadata": {},
          "execution_count": 89
        }
      ],
      "source": [
        "dataset[\"fbs\"].describe()"
      ]
    },
    {
      "cell_type": "code",
      "execution_count": 90,
      "metadata": {
        "_uuid": "43d491d311a8b96a6a9cbecbeff87f577584cd3a",
        "colab": {
          "base_uri": "https://localhost:8080/"
        },
        "id": "gvNWzz3Wb3Lu",
        "outputId": "de302507-e3e5-4597-a238-4070d8636a56"
      },
      "outputs": [
        {
          "output_type": "execute_result",
          "data": {
            "text/plain": [
              "array([1, 0])"
            ]
          },
          "metadata": {},
          "execution_count": 90
        }
      ],
      "source": [
        "dataset[\"fbs\"].unique()"
      ]
    },
    {
      "cell_type": "code",
      "execution_count": 91,
      "metadata": {
        "_uuid": "90509dcee97df858115131c771e69347a044aafb",
        "colab": {
          "base_uri": "https://localhost:8080/",
          "height": 433
        },
        "id": "BKoHiQwRb3Lv",
        "outputId": "4bda2489-03fc-4285-c018-adb104f9d039"
      },
      "outputs": [
        {
          "output_type": "execute_result",
          "data": {
            "text/plain": [
              "<Axes: ylabel='fbs'>"
            ]
          },
          "metadata": {},
          "execution_count": 91
        },
        {
          "output_type": "display_data",
          "data": {
            "text/plain": [
              "<Figure size 640x480 with 1 Axes>"
            ],
            "image/png": "[encoded data removed]"
          },
          "metadata": {}
        }
      ],
      "source": [
        "sns.barplot(y=\"fbs\", data=dataset)"
      ]
    },
    {
      "cell_type": "markdown",
      "metadata": {
        "_uuid": "7ec0ef582de18e2ddd06083d4caca7f760ba3700",
        "id": "sjorSUm-b3Lv"
      },
      "source": [
        "##### Nothing extraordinary here"
      ]
    },
    {
      "cell_type": "markdown",
      "metadata": {
        "_uuid": "5a8d6384c879ed40eddefed03b16607bc02deecf",
        "id": "edaLBGGOb3Lv"
      },
      "source": [
        "### Analysing the restecg feature"
      ]
    },
    {
      "cell_type": "code",
      "execution_count": 92,
      "metadata": {
        "_uuid": "b12fcc535fe07bc58aa99e97ec9b4e0b01f30a8d",
        "colab": {
          "base_uri": "https://localhost:8080/"
        },
        "id": "tl1afGMrb3Lv",
        "outputId": "4c93b599-fb41-481c-a16a-7018ea778c90"
      },
      "outputs": [
        {
          "output_type": "execute_result",
          "data": {
            "text/plain": [
              "array([0, 1, 2])"
            ]
          },
          "metadata": {},
          "execution_count": 92
        }
      ],
      "source": [
        "dataset[\"restecg\"].unique()"
      ]
    },
    {
      "cell_type": "code",
      "execution_count": 93,
      "metadata": {
        "_uuid": "ccae9489c2b6e63adb87cef83d367f49ef08a133",
        "colab": {
          "base_uri": "https://localhost:8080/",
          "height": 433
        },
        "id": "TrNRKpU7b3Lv",
        "outputId": "3a9a0d8c-f40d-4b65-89f3-d6307009c975"
      },
      "outputs": [
        {
          "output_type": "execute_result",
          "data": {
            "text/plain": [
              "<Axes: ylabel='restecg'>"
            ]
          },
          "metadata": {},
          "execution_count": 93
        },
        {
          "output_type": "display_data",
          "data": {
            "text/plain": [
              "<Figure size 640x480 with 1 Axes>"
            ],
            "image/png": "[encoded data removed]"
          },
          "metadata": {}
        }
      ],
      "source": [
        "sns.barplot(y=\"restecg\", data=dataset)"
      ]
    },
    {
      "cell_type": "markdown",
      "metadata": {
        "_uuid": "84cf1d3ca8d3507765bbb3763834c3795380f1bf",
        "id": "9YbbckjWb3Lv"
      },
      "source": [
        "##### We realize that people with restecg '1' and '0' are much more likely to have a heart disease than with restecg '2'"
      ]
    },
    {
      "cell_type": "markdown",
      "metadata": {
        "_uuid": "efaf4d85a6837cf43bd5b33d4eaaf193bc6fedc1",
        "id": "HUTxpXlwb3Lw"
      },
      "source": [
        "### Analysing the 'exang' feature"
      ]
    },
    {
      "cell_type": "code",
      "execution_count": 94,
      "metadata": {
        "_uuid": "53dd2985ea50aa6f9c9e5931050b4ef7b7aa609d",
        "colab": {
          "base_uri": "https://localhost:8080/"
        },
        "id": "vGh1wdx2b3Lw",
        "outputId": "6c89011a-2adc-4704-d9cc-f5b610278379"
      },
      "outputs": [
        {
          "output_type": "execute_result",
          "data": {
            "text/plain": [
              "array([0, 1])"
            ]
          },
          "metadata": {},
          "execution_count": 94
        }
      ],
      "source": [
        "dataset[\"exang\"].unique()"
      ]
    },
    {
      "cell_type": "code",
      "execution_count": 95,
      "metadata": {
        "_uuid": "237a60a2a11dab86e50cafcee4ec47df752876a1",
        "colab": {
          "base_uri": "https://localhost:8080/",
          "height": 433
        },
        "id": "TXtar8xab3Lw",
        "outputId": "7451102f-e4dd-4539-fbb6-d84025fa7ab9"
      },
      "outputs": [
        {
          "output_type": "execute_result",
          "data": {
            "text/plain": [
              "<Axes: ylabel='exang'>"
            ]
          },
          "metadata": {},
          "execution_count": 95
        },
        {
          "output_type": "display_data",
          "data": {
            "text/plain": [
              "<Figure size 640x480 with 1 Axes>"
            ],
            "image/png": "[encoded data removed]"
          },
          "metadata": {}
        }
      ],
      "source": [
        "sns.barplot(y=\"exang\", data=dataset)\n"
      ]
    },
    {
      "cell_type": "markdown",
      "metadata": {
        "_uuid": "f442f08734344740ebc225af7a565bcb91962dca",
        "id": "xbrju8k-b3Lw"
      },
      "source": [
        "##### People with exang=1 i.e. Exercise induced angina are much less likely to have heart problems"
      ]
    },
    {
      "cell_type": "markdown",
      "metadata": {
        "_uuid": "4ce2d649ededc2126324cd07ce430b005697e288",
        "id": "0l9WZZM9b3Lx"
      },
      "source": [
        "### Analysing the Slope feature"
      ]
    },
    {
      "cell_type": "code",
      "execution_count": 96,
      "metadata": {
        "_uuid": "e1e148d25967c36d2bb5fbfb802c70dae93f8a4f",
        "colab": {
          "base_uri": "https://localhost:8080/"
        },
        "id": "fHC3iavpb3Lx",
        "outputId": "5d623cf3-c0a4-4b57-c06f-4b015a4633b6"
      },
      "outputs": [
        {
          "output_type": "execute_result",
          "data": {
            "text/plain": [
              "array([0, 2, 1])"
            ]
          },
          "metadata": {},
          "execution_count": 96
        }
      ],
      "source": [
        "dataset[\"slope\"].unique()"
      ]
    },
    {
      "cell_type": "code",
      "execution_count": 97,
      "metadata": {
        "_uuid": "beaa943c166b3c550fe357e6e937dbda46b707c9",
        "colab": {
          "base_uri": "https://localhost:8080/",
          "height": 433
        },
        "id": "YV9LPLQ1b3Lx",
        "outputId": "133174a1-fd5a-4aac-cc91-af3b77a95130"
      },
      "outputs": [
        {
          "output_type": "execute_result",
          "data": {
            "text/plain": [
              "<Axes: ylabel='slope'>"
            ]
          },
          "metadata": {},
          "execution_count": 97
        },
        {
          "output_type": "display_data",
          "data": {
            "text/plain": [
              "<Figure size 640x480 with 1 Axes>"
            ],
            "image/png": "[encoded data removed]"
          },
          "metadata": {}
        }
      ],
      "source": [
        "sns.barplot(y=\"slope\", data=dataset)"
      ]
    },
    {
      "cell_type": "markdown",
      "metadata": {
        "_uuid": "3141a4a203dd433dd7af6c02c1d0b44d048656a0",
        "id": "7kbCny1qb3Ly"
      },
      "source": [
        "##### We observe, that Slope '2' causes heart pain much more than Slope '0' and '1'"
      ]
    },
    {
      "cell_type": "markdown",
      "metadata": {
        "_uuid": "c0b39456274f1e0f402704714494161ddc55f16a",
        "id": "NZcVd1hWb3Ly"
      },
      "source": [
        "### Analysing the 'ca' feature"
      ]
    },
    {
      "cell_type": "code",
      "execution_count": 98,
      "metadata": {
        "_uuid": "50db41d7e9ebe645bc7c6fcbaf26194176c274db",
        "id": "TOidZt-Gb3Ly"
      },
      "outputs": [],
      "source": [
        "#number of major vessels (0-3) colored by flourosopy"
      ]
    },
    {
      "cell_type": "code",
      "execution_count": 99,
      "metadata": {
        "_uuid": "a3b7ed6661d24dc399963afbca1e08d79243b431",
        "colab": {
          "base_uri": "https://localhost:8080/"
        },
        "id": "99tUcEo1b3Ly",
        "outputId": "45308087-61b6-4d8a-d81d-6fc1280102f7"
      },
      "outputs": [
        {
          "output_type": "execute_result",
          "data": {
            "text/plain": [
              "array([0, 2, 1, 3, 4])"
            ]
          },
          "metadata": {},
          "execution_count": 99
        }
      ],
      "source": [
        "dataset[\"ca\"].unique()"
      ]
    },
    {
      "cell_type": "code",
      "execution_count": 100,
      "metadata": {
        "_uuid": "f463859906d0287c68152ebe3cadc241e569802c",
        "colab": {
          "base_uri": "https://localhost:8080/",
          "height": 448
        },
        "id": "G4Ckavv3b3Ly",
        "outputId": "808d7396-33ff-42c4-fb0e-94209438991d"
      },
      "outputs": [
        {
          "output_type": "execute_result",
          "data": {
            "text/plain": [
              "<Axes: ylabel='count'>"
            ]
          },
          "metadata": {},
          "execution_count": 100
        },
        {
          "output_type": "display_data",
          "data": {
            "text/plain": [
              "<Figure size 640x480 with 1 Axes>"
            ],
            "image/png": "[encoded data removed]"
          },
          "metadata": {}
        }
      ],
      "source": [
        "sns.countplot(dataset[\"ca\"])"
      ]
    },
    {
      "cell_type": "code",
      "execution_count": 101,
      "metadata": {
        "_uuid": "81483318bc63c7434eeb75515483c329abcf15e3",
        "colab": {
          "base_uri": "https://localhost:8080/",
          "height": 433
        },
        "id": "G98TA_Phb3Ly",
        "outputId": "87cd740c-d7cf-4c43-f5af-438127c9159b"
      },
      "outputs": [
        {
          "output_type": "execute_result",
          "data": {
            "text/plain": [
              "<Axes: ylabel='ca'>"
            ]
          },
          "metadata": {},
          "execution_count": 101
        },
        {
          "output_type": "display_data",
          "data": {
            "text/plain": [
              "<Figure size 640x480 with 1 Axes>"
            ],
            "image/png": "[encoded data removed]"
          },
          "metadata": {}
        }
      ],
      "source": [
        "\n",
        "sns.barplot(y=\"ca\", data=dataset)"
      ]
    },
    {
      "cell_type": "markdown",
      "metadata": {
        "_uuid": "87671e11e19372848af999bb17d061f577eb08b5",
        "id": "zFU1QDp_b3Lz"
      },
      "source": [
        "##### ca=4 has astonishingly large number of heart patients"
      ]
    },
    {
      "cell_type": "code",
      "execution_count": 102,
      "metadata": {
        "_uuid": "b4b057d99c7c3cdbe9e304a75b399f214f352aba",
        "id": "lbFgjAiXb3Lz"
      },
      "outputs": [],
      "source": [
        "### Analysing the 'thal' feature"
      ]
    },
    {
      "cell_type": "code",
      "execution_count": 103,
      "metadata": {
        "_uuid": "16eaf9a5f7433be2028369818aa54e2bf01e544e",
        "colab": {
          "base_uri": "https://localhost:8080/"
        },
        "id": "yXBpBcvqb3Lz",
        "outputId": "0b2408f9-288e-4087-d322-0dd0ffd67dbd"
      },
      "outputs": [
        {
          "output_type": "execute_result",
          "data": {
            "text/plain": [
              "array([1, 2, 3, 0])"
            ]
          },
          "metadata": {},
          "execution_count": 103
        }
      ],
      "source": [
        "dataset[\"thal\"].unique()"
      ]
    },
    {
      "cell_type": "code",
      "execution_count": 104,
      "metadata": {
        "_uuid": "08947d9c4b05d68b2fe5ae70e33566063c44f8d4",
        "colab": {
          "base_uri": "https://localhost:8080/",
          "height": 438
        },
        "id": "G68UY4nwb3Lz",
        "outputId": "33f67aba-e3a9-4080-9db7-7b76f818443d"
      },
      "outputs": [
        {
          "output_type": "execute_result",
          "data": {
            "text/plain": [
              "<Axes: ylabel='thal'>"
            ]
          },
          "metadata": {},
          "execution_count": 104
        },
        {
          "output_type": "display_data",
          "data": {
            "text/plain": [
              "<Figure size 640x480 with 1 Axes>"
            ],
            "image/png": "[encoded data removed]"
          },
          "metadata": {}
        }
      ],
      "source": [
        "\n",
        "sns.barplot(y=\"thal\", data=dataset)"
      ]
    },
    {
      "cell_type": "code",
      "execution_count": 105,
      "metadata": {
        "_uuid": "dc84bb1643cbed20e8ac5980db59ffd54d5b581c",
        "colab": {
          "base_uri": "https://localhost:8080/",
          "height": 467
        },
        "id": "aAoRqkM_b3Lz",
        "outputId": "79631015-9d3a-443a-ee4e-8705aa70dfab"
      },
      "outputs": [
        {
          "output_type": "execute_result",
          "data": {
            "text/plain": [
              "<Axes: xlabel='thal', ylabel='Density'>"
            ]
          },
          "metadata": {},
          "execution_count": 105
        },
        {
          "output_type": "display_data",
          "data": {
            "text/plain": [
              "<Figure size 640x480 with 1 Axes>"
            ],
            "image/png": "[encoded data removed]"
          },
          "metadata": {}
        }
      ],
      "source": [
        "sns.distplot(dataset[\"thal\"])"
      ]
    },
    {
      "cell_type": "markdown",
      "metadata": {
        "_uuid": "d1c95f2180e264978c85703ece34898dab4d522b",
        "id": "9JQbBm-4b3L0"
      },
      "source": [
        "## IV. Train Test split"
      ]
    },
    {
      "cell_type": "code",
      "execution_count": 106,
      "metadata": {
        "_uuid": "829fcda5b63e1b9f7ecb7762e8ca617166533aca",
        "id": "1yfEawNjb3L0"
      },
      "outputs": [],
      "source": [
        "from sklearn.model_selection import train_test_split\n",
        "\n",
        "predictors = dataset.drop(\"target\",axis=1)\n",
        "target = dataset[\"target\"]\n",
        "\n",
        "X_train,X_test,Y_train,Y_test = train_test_split(predictors,target,test_size=0.20,random_state=0)"
      ]
    },
    {
      "cell_type": "code",
      "execution_count": 107,
      "metadata": {
        "_uuid": "7a74842015c2f193d16caa4fa25e2c4cbf1940f8",
        "colab": {
          "base_uri": "https://localhost:8080/"
        },
        "id": "NkW8lOlQb3L0",
        "outputId": "3d9a5b90-3a10-404f-c85d-9bd630d372f4"
      },
      "outputs": [
        {
          "output_type": "execute_result",
          "data": {
            "text/plain": [
              "(242, 13)"
            ]
          },
          "metadata": {},
          "execution_count": 107
        }
      ],
      "source": [
        "X_train.shape"
      ]
    },
    {
      "cell_type": "code",
      "execution_count": 108,
      "metadata": {
        "_uuid": "1f777652df4521deb877dac4d5d635d8cd35b279",
        "colab": {
          "base_uri": "https://localhost:8080/"
        },
        "id": "65V1lVjrb3L0",
        "outputId": "634eab9e-2ef0-44b8-e892-f67490b0669b"
      },
      "outputs": [
        {
          "output_type": "execute_result",
          "data": {
            "text/plain": [
              "(61, 13)"
            ]
          },
          "metadata": {},
          "execution_count": 108
        }
      ],
      "source": [
        "X_test.shape"
      ]
    },
    {
      "cell_type": "code",
      "execution_count": 109,
      "metadata": {
        "_uuid": "028c968a076840657faf7dbc3bfee9fe7b5ca45a",
        "colab": {
          "base_uri": "https://localhost:8080/"
        },
        "id": "olQOF3lUb3L1",
        "outputId": "32e0602c-81f0-42a0-ce87-ed2508e5bdee"
      },
      "outputs": [
        {
          "output_type": "execute_result",
          "data": {
            "text/plain": [
              "(242,)"
            ]
          },
          "metadata": {},
          "execution_count": 109
        }
      ],
      "source": [
        "Y_train.shape"
      ]
    },
    {
      "cell_type": "code",
      "execution_count": 110,
      "metadata": {
        "_uuid": "eb6857dfc18da52dae38bec95d20106f39136e61",
        "colab": {
          "base_uri": "https://localhost:8080/"
        },
        "id": "aXGjgaYwb3L1",
        "outputId": "610b2be2-eba0-4304-eed8-3fa6d4ecd7c4"
      },
      "outputs": [
        {
          "output_type": "execute_result",
          "data": {
            "text/plain": [
              "(61,)"
            ]
          },
          "metadata": {},
          "execution_count": 110
        }
      ],
      "source": [
        "Y_test.shape"
      ]
    },
    {
      "cell_type": "markdown",
      "metadata": {
        "_uuid": "3b4f28488a92917f26e9876c1880295ec9c077ed",
        "id": "cTeEGhKRb3L1"
      },
      "source": [
        "## V. Model Fitting"
      ]
    },
    {
      "cell_type": "code",
      "execution_count": 111,
      "metadata": {
        "_uuid": "fe363c1be8335a48a4444660db5fa6bd0a24b71a",
        "id": "GH4OUOGvb3L1"
      },
      "outputs": [],
      "source": [
        "from sklearn.metrics import accuracy_score"
      ]
    },
    {
      "cell_type": "markdown",
      "metadata": {
        "_uuid": "afa6b322cbc225f3353bd295aea24fe5fbbb78fe",
        "id": "UJLJfoG6b3L1"
      },
      "source": [
        "### Logistic Regression"
      ]
    },
    {
      "cell_type": "code",
      "execution_count": 112,
      "metadata": {
        "_uuid": "9aea2f597203ccf38cd0d67ae58bff6e163dea1c",
        "id": "PQeNDTonb3L1"
      },
      "outputs": [],
      "source": [
        "from sklearn.linear_model import LogisticRegression\n",
        "\n",
        "lr = LogisticRegression()\n",
        "\n",
        "lr.fit(X_train,Y_train)\n",
        "\n",
        "Y_pred_lr = lr.predict(X_test)"
      ]
    },
    {
      "cell_type": "code",
      "execution_count": 113,
      "metadata": {
        "_uuid": "58fb833d1c74355ebdafe926968632942f377421",
        "colab": {
          "base_uri": "https://localhost:8080/"
        },
        "id": "pFKBE8Cob3L2",
        "outputId": "a8661ebf-8a33-4560-c419-9453190b3a40"
      },
      "outputs": [
        {
          "output_type": "execute_result",
          "data": {
            "text/plain": [
              "(61,)"
            ]
          },
          "metadata": {},
          "execution_count": 113
        }
      ],
      "source": [
        "Y_pred_lr.shape"
      ]
    },
    {
      "cell_type": "code",
      "execution_count": 114,
      "metadata": {
        "_uuid": "ee4cba838316adf863f8daf131d36a970d36b839",
        "colab": {
          "base_uri": "https://localhost:8080/"
        },
        "id": "VfFG4AJ0b3L2",
        "outputId": "4d76b50b-c389-4c3f-9bc7-5ce6adeaa54d"
      },
      "outputs": [
        {
          "output_type": "stream",
          "name": "stdout",
          "text": [
            "The accuracy score achieved using Logistic Regression is: 85.25 %\n"
          ]
        }
      ],
      "source": [
        "score_lr = round(accuracy_score(Y_pred_lr,Y_test)*100,2)\n",
        "\n",
        "print(\"The accuracy score achieved using Logistic Regression is: \"+str(score_lr)+\" %\")"
      ]
    },
    {
      "cell_type": "markdown",
      "metadata": {
        "_uuid": "4f92fceb9584ae03d3ab370ee11899cb287be690",
        "id": "chciLnb2b3L2"
      },
      "source": [
        "### Naive Bayes"
      ]
    },
    {
      "cell_type": "code",
      "execution_count": 115,
      "metadata": {
        "_uuid": "ffcdab99b4108902547f0179a242a9757078dc68",
        "id": "wlUTpPO9b3L2"
      },
      "outputs": [],
      "source": [
        "from sklearn.naive_bayes import GaussianNB\n",
        "\n",
        "nb = GaussianNB()\n",
        "\n",
        "nb.fit(X_train,Y_train)\n",
        "\n",
        "Y_pred_nb = nb.predict(X_test)"
      ]
    },
    {
      "cell_type": "code",
      "execution_count": 116,
      "metadata": {
        "_uuid": "9109059d06e4c92494451b3cdab0bbb5a1816072",
        "colab": {
          "base_uri": "https://localhost:8080/"
        },
        "id": "I2VIs2GYb3L2",
        "outputId": "08a6bd10-63ba-4778-9d12-1045aa000133"
      },
      "outputs": [
        {
          "output_type": "execute_result",
          "data": {
            "text/plain": [
              "(61,)"
            ]
          },
          "metadata": {},
          "execution_count": 116
        }
      ],
      "source": [
        "Y_pred_nb.shape"
      ]
    },
    {
      "cell_type": "code",
      "execution_count": 117,
      "metadata": {
        "_uuid": "e8f8f55db061ada0b669ffa46e9ecc745fcda1ae",
        "colab": {
          "base_uri": "https://localhost:8080/"
        },
        "id": "mLQ_SKkFb3L3",
        "outputId": "76ed0ef0-3145-41e0-8c0d-cdd0f1a1fedc"
      },
      "outputs": [
        {
          "output_type": "stream",
          "name": "stdout",
          "text": [
            "The accuracy score achieved using Naive Bayes is: 85.25 %\n"
          ]
        }
      ],
      "source": [
        "score_nb = round(accuracy_score(Y_pred_nb,Y_test)*100,2)\n",
        "\n",
        "print(\"The accuracy score achieved using Naive Bayes is: \"+str(score_nb)+\" %\")"
      ]
    },
    {
      "cell_type": "markdown",
      "metadata": {
        "_uuid": "2af8b010893284bae0d6cccf66ccfda646e7ca58",
        "id": "-TqoR1Ypb3L3"
      },
      "source": [
        "### SVM"
      ]
    },
    {
      "cell_type": "code",
      "execution_count": 118,
      "metadata": {
        "_uuid": "f1936ece7b76b67e552758a4c80e9421bffe0bc2",
        "id": "PixoGdKpb3L3"
      },
      "outputs": [],
      "source": [
        "from sklearn import svm\n",
        "\n",
        "sv = svm.SVC(kernel='linear')\n",
        "\n",
        "sv.fit(X_train, Y_train)\n",
        "\n",
        "Y_pred_svm = sv.predict(X_test)"
      ]
    },
    {
      "cell_type": "code",
      "execution_count": 119,
      "metadata": {
        "_uuid": "36f60f104264d44760705b9c802504f426e15592",
        "colab": {
          "base_uri": "https://localhost:8080/"
        },
        "id": "fw3Judd5b3L3",
        "outputId": "7d3f42b7-37cc-469a-f8d6-0bcfe98310a6"
      },
      "outputs": [
        {
          "output_type": "execute_result",
          "data": {
            "text/plain": [
              "(61,)"
            ]
          },
          "metadata": {},
          "execution_count": 119
        }
      ],
      "source": [
        "Y_pred_svm.shape"
      ]
    },
    {
      "cell_type": "code",
      "execution_count": 120,
      "metadata": {
        "_uuid": "f5a73bca6721f42b3983c328fd475390ba9bc4d3",
        "colab": {
          "base_uri": "https://localhost:8080/"
        },
        "id": "Jg4ZUPkHb3L3",
        "outputId": "b673ff91-4a16-4cc1-e51e-fe5d476d5140"
      },
      "outputs": [
        {
          "output_type": "stream",
          "name": "stdout",
          "text": [
            "The accuracy score achieved using Linear SVM is: 81.97 %\n"
          ]
        }
      ],
      "source": [
        "score_svm = round(accuracy_score(Y_pred_svm,Y_test)*100,2)\n",
        "\n",
        "print(\"The accuracy score achieved using Linear SVM is: \"+str(score_svm)+\" %\")"
      ]
    },
    {
      "cell_type": "markdown",
      "metadata": {
        "_uuid": "4e26d165b57f3f7882570964f1c2dc4a548404de",
        "id": "63K4VrERb3L4"
      },
      "source": [
        "### K Nearest Neighbors"
      ]
    },
    {
      "cell_type": "code",
      "execution_count": 121,
      "metadata": {
        "_uuid": "286352867c53d5fb7dac2fc9bf4b2ac58a466ad0",
        "id": "W1BbBYAIb3L4"
      },
      "outputs": [],
      "source": [
        "from sklearn.neighbors import KNeighborsClassifier\n",
        "\n",
        "knn = KNeighborsClassifier(n_neighbors=7)\n",
        "knn.fit(X_train,Y_train)\n",
        "Y_pred_knn=knn.predict(X_test)"
      ]
    },
    {
      "cell_type": "code",
      "execution_count": 122,
      "metadata": {
        "_uuid": "bccb7c1fcec36dd2eb7eb222f49604029adec2b4",
        "colab": {
          "base_uri": "https://localhost:8080/"
        },
        "id": "C00AkA2tb3L4",
        "outputId": "3be4b4e3-1053-4f74-afb4-4be8b2881849"
      },
      "outputs": [
        {
          "output_type": "execute_result",
          "data": {
            "text/plain": [
              "(61,)"
            ]
          },
          "metadata": {},
          "execution_count": 122
        }
      ],
      "source": [
        "Y_pred_knn.shape"
      ]
    },
    {
      "cell_type": "code",
      "execution_count": 123,
      "metadata": {
        "_uuid": "dda4e8f8f18f96557cdd38cee177de0456db5f45",
        "colab": {
          "base_uri": "https://localhost:8080/"
        },
        "id": "RDeS0jLmb3L4",
        "outputId": "bb88fb35-417c-493c-c1a0-b75cf239ad9b"
      },
      "outputs": [
        {
          "output_type": "stream",
          "name": "stdout",
          "text": [
            "The accuracy score achieved using KNN is: 67.21 %\n"
          ]
        }
      ],
      "source": [
        "score_knn = round(accuracy_score(Y_pred_knn,Y_test)*100,2)\n",
        "\n",
        "print(\"The accuracy score achieved using KNN is: \"+str(score_knn)+\" %\")"
      ]
    },
    {
      "cell_type": "markdown",
      "metadata": {
        "_uuid": "abb767170c662e4d9a8b240fd0fd7286ffb0b67f",
        "id": "y9iuX5Xhb3L4"
      },
      "source": [
        "### Decision Tree"
      ]
    },
    {
      "cell_type": "code",
      "execution_count": 124,
      "metadata": {
        "_uuid": "8c141316764dce80103d1879c9b17d853702a746",
        "id": "KsTT1UHIb3L4"
      },
      "outputs": [],
      "source": [
        "from sklearn.tree import DecisionTreeClassifier\n",
        "\n",
        "max_accuracy = 0\n",
        "\n",
        "\n",
        "for x in range(200):\n",
        "    dt = DecisionTreeClassifier(random_state=x)\n",
        "    dt.fit(X_train,Y_train)\n",
        "    Y_pred_dt = dt.predict(X_test)\n",
        "    current_accuracy = round(accuracy_score(Y_pred_dt,Y_test)*100,2)\n",
        "    if(current_accuracy>max_accuracy):\n",
        "        max_accuracy = current_accuracy\n",
        "        best_x = x\n",
        "\n",
        "#print(max_accuracy)\n",
        "#print(best_x)\n",
        "\n",
        "\n",
        "dt = DecisionTreeClassifier(random_state=best_x)\n",
        "dt.fit(X_train,Y_train)\n",
        "Y_pred_dt = dt.predict(X_test)"
      ]
    },
    {
      "cell_type": "code",
      "execution_count": 125,
      "metadata": {
        "_uuid": "8de0bd2d57abd24d3a97a5b020a24439eb106f2b",
        "colab": {
          "base_uri": "https://localhost:8080/"
        },
        "id": "DVKDlwXWb3L5",
        "outputId": "726eed6e-467e-46b3-c8c0-5d5dcbdb84e1"
      },
      "outputs": [
        {
          "output_type": "stream",
          "name": "stdout",
          "text": [
            "(61,)\n"
          ]
        }
      ],
      "source": [
        "print(Y_pred_dt.shape)"
      ]
    },
    {
      "cell_type": "code",
      "execution_count": 126,
      "metadata": {
        "_uuid": "52ab93482d3b53824e9bc2b3e4114c57253e0c5b",
        "colab": {
          "base_uri": "https://localhost:8080/"
        },
        "id": "Z3l4_pFtb3L5",
        "outputId": "5e546438-ba1f-4b47-95e4-c88f8aaae73c"
      },
      "outputs": [
        {
          "output_type": "stream",
          "name": "stdout",
          "text": [
            "The accuracy score achieved using Decision Tree is: 81.97 %\n"
          ]
        }
      ],
      "source": [
        "score_dt = round(accuracy_score(Y_pred_dt,Y_test)*100,2)\n",
        "\n",
        "print(\"The accuracy score achieved using Decision Tree is: \"+str(score_dt)+\" %\")"
      ]
    },
    {
      "cell_type": "markdown",
      "metadata": {
        "_uuid": "9e663d26efb00a434751f06ad0292949eff6c358",
        "id": "kGN6srrub3L5"
      },
      "source": [
        "### Random Forest"
      ]
    },
    {
      "cell_type": "code",
      "execution_count": 127,
      "metadata": {
        "_uuid": "8284f5222cf90be1bcd37887c45f91cf22ed1193",
        "id": "U9iiuH5vb3L5"
      },
      "outputs": [],
      "source": [
        "from sklearn.ensemble import RandomForestClassifier\n",
        "\n",
        "max_accuracy = 0\n",
        "\n",
        "\n",
        "for x in range(2000):\n",
        "    rf = RandomForestClassifier(random_state=x)\n",
        "    rf.fit(X_train,Y_train)\n",
        "    Y_pred_rf = rf.predict(X_test)\n",
        "    current_accuracy = round(accuracy_score(Y_pred_rf,Y_test)*100,2)\n",
        "    if(current_accuracy>max_accuracy):\n",
        "        max_accuracy = current_accuracy\n",
        "        best_x = x\n",
        "\n",
        "#print(max_accuracy)\n",
        "#print(best_x)\n",
        "\n",
        "rf = RandomForestClassifier(random_state=best_x)\n",
        "rf.fit(X_train,Y_train)\n",
        "Y_pred_rf = rf.predict(X_test)"
      ]
    },
    {
      "cell_type": "code",
      "execution_count": 128,
      "metadata": {
        "_uuid": "edc8e1cbb57be0aa9e9ad5f4997212d53a9a4c99",
        "colab": {
          "base_uri": "https://localhost:8080/"
        },
        "id": "w3GC2Bofb3L5",
        "outputId": "5d2cb050-24d3-4605-c526-4628737a8759"
      },
      "outputs": [
        {
          "output_type": "execute_result",
          "data": {
            "text/plain": [
              "(61,)"
            ]
          },
          "metadata": {},
          "execution_count": 128
        }
      ],
      "source": [
        "Y_pred_rf.shape"
      ]
    },
    {
      "cell_type": "code",
      "execution_count": 129,
      "metadata": {
        "_uuid": "965228f30e05e07e7960a3375dc7dc85b49caed7",
        "colab": {
          "base_uri": "https://localhost:8080/"
        },
        "id": "JuFJY3M6b3L6",
        "outputId": "cba483b8-2af7-4727-a1e4-78f81faa8889"
      },
      "outputs": [
        {
          "output_type": "stream",
          "name": "stdout",
          "text": [
            "The accuracy score achieved using Decision Tree is: 90.16 %\n"
          ]
        }
      ],
      "source": [
        "score_rf = round(accuracy_score(Y_pred_rf,Y_test)*100,2)\n",
        "\n",
        "print(\"The accuracy score achieved using Decision Tree is: \"+str(score_rf)+\" %\")"
      ]
    },
    {
      "cell_type": "markdown",
      "metadata": {
        "_uuid": "6a0fc13a6c2fccd6a725a7691cfe95d74348a8ae",
        "id": "oGE2CnkWb3L6"
      },
      "source": [
        "### XGBoost"
      ]
    },
    {
      "cell_type": "code",
      "execution_count": 130,
      "metadata": {
        "_uuid": "5a437f3c0e190887e2192ecb1844eaa6eb1d34a7",
        "id": "_nskOGbPb3L6"
      },
      "outputs": [],
      "source": [
        "import xgboost as xgb\n",
        "\n",
        "xgb_model = xgb.XGBClassifier(objective=\"binary:logistic\", random_state=42)\n",
        "xgb_model.fit(X_train, Y_train)\n",
        "\n",
        "Y_pred_xgb = xgb_model.predict(X_test)"
      ]
    },
    {
      "cell_type": "code",
      "execution_count": 131,
      "metadata": {
        "_uuid": "168d52cd705f2abb6763107328c984e4252c618e",
        "colab": {
          "base_uri": "https://localhost:8080/"
        },
        "id": "oBpI58oFb3L6",
        "outputId": "08abcb6f-01ec-40b6-ec0f-a13350e83197"
      },
      "outputs": [
        {
          "output_type": "execute_result",
          "data": {
            "text/plain": [
              "(61,)"
            ]
          },
          "metadata": {},
          "execution_count": 131
        }
      ],
      "source": [
        "Y_pred_xgb.shape"
      ]
    },
    {
      "cell_type": "code",
      "execution_count": 132,
      "metadata": {
        "_uuid": "319c4f0d2e62b03c95a48df0ecc33b15e7fa7f39",
        "colab": {
          "base_uri": "https://localhost:8080/"
        },
        "id": "X3JT6T-Eb3L6",
        "outputId": "2f135c7b-dc93-4b6c-c809-4a8ce0cb93da"
      },
      "outputs": [
        {
          "output_type": "stream",
          "name": "stdout",
          "text": [
            "The accuracy score achieved using XGBoost is: 83.61 %\n"
          ]
        }
      ],
      "source": [
        "score_xgb = round(accuracy_score(Y_pred_xgb,Y_test)*100,2)\n",
        "\n",
        "print(\"The accuracy score achieved using XGBoost is: \"+str(score_xgb)+\" %\")"
      ]
    },
    {
      "cell_type": "markdown",
      "metadata": {
        "_uuid": "e224ab23f275a3a56cdba6a9ccfddbd6a4d3b4fd",
        "id": "FnriMN6Sb3L7"
      },
      "source": [
        "### Neural Network"
      ]
    },
    {
      "cell_type": "code",
      "execution_count": 133,
      "metadata": {
        "_uuid": "727b391ad6d86468a96e93dc645ade6e2da4048e",
        "id": "zQtnHMbhb3L7"
      },
      "outputs": [],
      "source": [
        "from keras.models import Sequential\n",
        "from keras.layers import Dense"
      ]
    },
    {
      "cell_type": "code",
      "execution_count": 134,
      "metadata": {
        "_uuid": "650f1baa7db466923626c707408319fa29f22d10",
        "id": "HvShMNKwb3L7"
      },
      "outputs": [],
      "source": [
        "# https://stats.stackexchange.com/a/136542 helped a lot in avoiding overfitting\n",
        "\n",
        "model = Sequential()\n",
        "model.add(Dense(11,activation='relu',input_dim=13))\n",
        "model.add(Dense(1,activation='sigmoid'))\n",
        "\n",
        "model.compile(loss='binary_crossentropy',optimizer='adam',metrics=['accuracy'])"
      ]
    },
    {
      "cell_type": "code",
      "execution_count": 135,
      "metadata": {
        "_uuid": "dde4e50b5c4c24c73b03133fc7c90bf663fd6d82",
        "colab": {
          "base_uri": "https://localhost:8080/"
        },
        "id": "6mPr2fu7b3L7",
        "outputId": "0ac57c15-9d23-4298-b304-ef0772c15dc1"
      },
      "outputs": [
        {
          "output_type": "stream",
          "name": "stdout",
          "text": [
            "Epoch 1/300\n",
            "8/8 [==============================] - 1s 3ms/step - loss: 74.5115 - accuracy: 0.4587\n",
            "Epoch 2/300\n",
            "8/8 [==============================] - 0s 3ms/step - loss: 66.7549 - accuracy: 0.4587\n",
            "Epoch 3/300\n",
            "8/8 [==============================] - 0s 2ms/step - loss: 59.5728 - accuracy: 0.4587\n",
            "Epoch 4/300\n",
            "8/8 [==============================] - 0s 2ms/step - loss: 52.4933 - accuracy: 0.4587\n",
            "Epoch 5/300\n",
            "8/8 [==============================] - 0s 2ms/step - loss: 45.8089 - accuracy: 0.4587\n",
            "Epoch 6/300\n",
            "8/8 [==============================] - 0s 2ms/step - loss: 39.0979 - accuracy: 0.4587\n",
            "Epoch 7/300\n",
            "8/8 [==============================] - 0s 2ms/step - loss: 32.7192 - accuracy: 0.4587\n",
            "Epoch 8/300\n",
            "8/8 [==============================] - 0s 3ms/step - loss: 26.2430 - accuracy: 0.4587\n",
            "Epoch 9/300\n",
            "8/8 [==============================] - 0s 2ms/step - loss: 20.0722 - accuracy: 0.4587\n",
            "Epoch 10/300\n",
            "8/8 [==============================] - 0s 2ms/step - loss: 14.2681 - accuracy: 0.4587\n",
            "Epoch 11/300\n",
            "8/8 [==============================] - 0s 2ms/step - loss: 9.1979 - accuracy: 0.5000\n",
            "Epoch 12/300\n",
            "8/8 [==============================] - 0s 3ms/step - loss: 6.1360 - accuracy: 0.5455\n",
            "Epoch 13/300\n",
            "8/8 [==============================] - 0s 3ms/step - loss: 4.9107 - accuracy: 0.5992\n",
            "Epoch 14/300\n",
            "8/8 [==============================] - 0s 3ms/step - loss: 4.7981 - accuracy: 0.5826\n",
            "Epoch 15/300\n",
            "8/8 [==============================] - 0s 2ms/step - loss: 4.7605 - accuracy: 0.5992\n",
            "Epoch 16/300\n",
            "8/8 [==============================] - 0s 3ms/step - loss: 4.6930 - accuracy: 0.5992\n",
            "Epoch 17/300\n",
            "8/8 [==============================] - 0s 3ms/step - loss: 4.6270 - accuracy: 0.6033\n",
            "Epoch 18/300\n",
            "8/8 [==============================] - 0s 3ms/step - loss: 4.5275 - accuracy: 0.5992\n",
            "Epoch 19/300\n",
            "8/8 [==============================] - 0s 2ms/step - loss: 4.4553 - accuracy: 0.6033\n",
            "Epoch 20/300\n",
            "8/8 [==============================] - 0s 2ms/step - loss: 4.3999 - accuracy: 0.6074\n",
            "Epoch 21/300\n",
            "8/8 [==============================] - 0s 2ms/step - loss: 4.3406 - accuracy: 0.6074\n",
            "Epoch 22/300\n",
            "8/8 [==============================] - 0s 2ms/step - loss: 4.2930 - accuracy: 0.6033\n",
            "Epoch 23/300\n",
            "8/8 [==============================] - 0s 2ms/step - loss: 4.2495 - accuracy: 0.5992\n",
            "Epoch 24/300\n",
            "8/8 [==============================] - 0s 2ms/step - loss: 4.2042 - accuracy: 0.5950\n",
            "Epoch 25/300\n",
            "8/8 [==============================] - 0s 3ms/step - loss: 4.1655 - accuracy: 0.6033\n",
            "Epoch 26/300\n",
            "8/8 [==============================] - 0s 3ms/step - loss: 4.1232 - accuracy: 0.6074\n",
            "Epoch 27/300\n",
            "8/8 [==============================] - 0s 3ms/step - loss: 4.0737 - accuracy: 0.6074\n",
            "Epoch 28/300\n",
            "8/8 [==============================] - 0s 2ms/step - loss: 4.0305 - accuracy: 0.6033\n",
            "Epoch 29/300\n",
            "8/8 [==============================] - 0s 2ms/step - loss: 3.9853 - accuracy: 0.6033\n",
            "Epoch 30/300\n",
            "8/8 [==============================] - 0s 3ms/step - loss: 3.9420 - accuracy: 0.6074\n",
            "Epoch 31/300\n",
            "8/8 [==============================] - 0s 2ms/step - loss: 3.8984 - accuracy: 0.6074\n",
            "Epoch 32/300\n",
            "8/8 [==============================] - 0s 2ms/step - loss: 3.8552 - accuracy: 0.6116\n",
            "Epoch 33/300\n",
            "8/8 [==============================] - 0s 2ms/step - loss: 3.8154 - accuracy: 0.6157\n",
            "Epoch 34/300\n",
            "8/8 [==============================] - 0s 3ms/step - loss: 3.7762 - accuracy: 0.6116\n",
            "Epoch 35/300\n",
            "8/8 [==============================] - 0s 2ms/step - loss: 3.7352 - accuracy: 0.6033\n",
            "Epoch 36/300\n",
            "8/8 [==============================] - 0s 3ms/step - loss: 3.6953 - accuracy: 0.5992\n",
            "Epoch 37/300\n",
            "8/8 [==============================] - 0s 3ms/step - loss: 3.6616 - accuracy: 0.6033\n",
            "Epoch 38/300\n",
            "8/8 [==============================] - 0s 2ms/step - loss: 3.6169 - accuracy: 0.6033\n",
            "Epoch 39/300\n",
            "8/8 [==============================] - 0s 2ms/step - loss: 3.5798 - accuracy: 0.6074\n",
            "Epoch 40/300\n",
            "8/8 [==============================] - 0s 2ms/step - loss: 3.5386 - accuracy: 0.6198\n",
            "Epoch 41/300\n",
            "8/8 [==============================] - 0s 2ms/step - loss: 3.5026 - accuracy: 0.6198\n",
            "Epoch 42/300\n",
            "8/8 [==============================] - 0s 2ms/step - loss: 3.4666 - accuracy: 0.6198\n",
            "Epoch 43/300\n",
            "8/8 [==============================] - 0s 2ms/step - loss: 3.4297 - accuracy: 0.6198\n",
            "Epoch 44/300\n",
            "8/8 [==============================] - 0s 2ms/step - loss: 3.3969 - accuracy: 0.5992\n",
            "Epoch 45/300\n",
            "8/8 [==============================] - 0s 2ms/step - loss: 3.3613 - accuracy: 0.5992\n",
            "Epoch 46/300\n",
            "8/8 [==============================] - 0s 3ms/step - loss: 3.3240 - accuracy: 0.6116\n",
            "Epoch 47/300\n",
            "8/8 [==============================] - 0s 2ms/step - loss: 3.2882 - accuracy: 0.6198\n",
            "Epoch 48/300\n",
            "8/8 [==============================] - 0s 2ms/step - loss: 3.2523 - accuracy: 0.6198\n",
            "Epoch 49/300\n",
            "8/8 [==============================] - 0s 2ms/step - loss: 3.2156 - accuracy: 0.6116\n",
            "Epoch 50/300\n",
            "8/8 [==============================] - 0s 3ms/step - loss: 3.1834 - accuracy: 0.6116\n",
            "Epoch 51/300\n",
            "8/8 [==============================] - 0s 3ms/step - loss: 3.1488 - accuracy: 0.6116\n",
            "Epoch 52/300\n",
            "8/8 [==============================] - 0s 2ms/step - loss: 3.1147 - accuracy: 0.6116\n",
            "Epoch 53/300\n",
            "8/8 [==============================] - 0s 2ms/step - loss: 3.0874 - accuracy: 0.6074\n",
            "Epoch 54/300\n",
            "8/8 [==============================] - 0s 3ms/step - loss: 3.0483 - accuracy: 0.6157\n",
            "Epoch 55/300\n",
            "8/8 [==============================] - 0s 3ms/step - loss: 3.0043 - accuracy: 0.6116\n",
            "Epoch 56/300\n",
            "8/8 [==============================] - 0s 2ms/step - loss: 2.9693 - accuracy: 0.6157\n",
            "Epoch 57/300\n",
            "8/8 [==============================] - 0s 3ms/step - loss: 2.9370 - accuracy: 0.6116\n",
            "Epoch 58/300\n",
            "8/8 [==============================] - 0s 2ms/step - loss: 2.9037 - accuracy: 0.6116\n",
            "Epoch 59/300\n",
            "8/8 [==============================] - 0s 3ms/step - loss: 2.8617 - accuracy: 0.6157\n",
            "Epoch 60/300\n",
            "8/8 [==============================] - 0s 3ms/step - loss: 2.8307 - accuracy: 0.6116\n",
            "Epoch 61/300\n",
            "8/8 [==============================] - 0s 3ms/step - loss: 2.8026 - accuracy: 0.6157\n",
            "Epoch 62/300\n",
            "8/8 [==============================] - 0s 3ms/step - loss: 2.7580 - accuracy: 0.6116\n",
            "Epoch 63/300\n",
            "8/8 [==============================] - 0s 3ms/step - loss: 2.7229 - accuracy: 0.6198\n",
            "Epoch 64/300\n",
            "8/8 [==============================] - 0s 3ms/step - loss: 2.6977 - accuracy: 0.6116\n",
            "Epoch 65/300\n",
            "8/8 [==============================] - 0s 3ms/step - loss: 2.6568 - accuracy: 0.6240\n",
            "Epoch 66/300\n",
            "8/8 [==============================] - 0s 3ms/step - loss: 2.6185 - accuracy: 0.6240\n",
            "Epoch 67/300\n",
            "8/8 [==============================] - 0s 2ms/step - loss: 2.5892 - accuracy: 0.6198\n",
            "Epoch 68/300\n",
            "8/8 [==============================] - 0s 2ms/step - loss: 2.5596 - accuracy: 0.6240\n",
            "Epoch 69/300\n",
            "8/8 [==============================] - 0s 2ms/step - loss: 2.5202 - accuracy: 0.6198\n",
            "Epoch 70/300\n",
            "8/8 [==============================] - 0s 2ms/step - loss: 2.4844 - accuracy: 0.6240\n",
            "Epoch 71/300\n",
            "8/8 [==============================] - 0s 3ms/step - loss: 2.4535 - accuracy: 0.6240\n",
            "Epoch 72/300\n",
            "8/8 [==============================] - 0s 3ms/step - loss: 2.4149 - accuracy: 0.6281\n",
            "Epoch 73/300\n",
            "8/8 [==============================] - 0s 2ms/step - loss: 2.3879 - accuracy: 0.6281\n",
            "Epoch 74/300\n",
            "8/8 [==============================] - 0s 3ms/step - loss: 2.3512 - accuracy: 0.6240\n",
            "Epoch 75/300\n",
            "8/8 [==============================] - 0s 3ms/step - loss: 2.3157 - accuracy: 0.6281\n",
            "Epoch 76/300\n",
            "8/8 [==============================] - 0s 3ms/step - loss: 2.2773 - accuracy: 0.6281\n",
            "Epoch 77/300\n",
            "8/8 [==============================] - 0s 2ms/step - loss: 2.2503 - accuracy: 0.6281\n",
            "Epoch 78/300\n",
            "8/8 [==============================] - 0s 2ms/step - loss: 2.2129 - accuracy: 0.6240\n",
            "Epoch 79/300\n",
            "8/8 [==============================] - 0s 2ms/step - loss: 2.1819 - accuracy: 0.6198\n",
            "Epoch 80/300\n",
            "8/8 [==============================] - 0s 3ms/step - loss: 2.1581 - accuracy: 0.6157\n",
            "Epoch 81/300\n",
            "8/8 [==============================] - 0s 2ms/step - loss: 2.1176 - accuracy: 0.6322\n",
            "Epoch 82/300\n",
            "8/8 [==============================] - 0s 3ms/step - loss: 2.0848 - accuracy: 0.6157\n",
            "Epoch 83/300\n",
            "8/8 [==============================] - 0s 2ms/step - loss: 2.0532 - accuracy: 0.6281\n",
            "Epoch 84/300\n",
            "8/8 [==============================] - 0s 3ms/step - loss: 2.0207 - accuracy: 0.6240\n",
            "Epoch 85/300\n",
            "8/8 [==============================] - 0s 2ms/step - loss: 2.0040 - accuracy: 0.6157\n",
            "Epoch 86/300\n",
            "8/8 [==============================] - 0s 3ms/step - loss: 1.9580 - accuracy: 0.6198\n",
            "Epoch 87/300\n",
            "8/8 [==============================] - 0s 2ms/step - loss: 1.9274 - accuracy: 0.6240\n",
            "Epoch 88/300\n",
            "8/8 [==============================] - 0s 2ms/step - loss: 1.9045 - accuracy: 0.6198\n",
            "Epoch 89/300\n",
            "8/8 [==============================] - 0s 3ms/step - loss: 1.8645 - accuracy: 0.6240\n",
            "Epoch 90/300\n",
            "8/8 [==============================] - 0s 2ms/step - loss: 1.8417 - accuracy: 0.6281\n",
            "Epoch 91/300\n",
            "8/8 [==============================] - 0s 3ms/step - loss: 1.8097 - accuracy: 0.6281\n",
            "Epoch 92/300\n",
            "8/8 [==============================] - 0s 3ms/step - loss: 1.7777 - accuracy: 0.6240\n",
            "Epoch 93/300\n",
            "8/8 [==============================] - 0s 3ms/step - loss: 1.7632 - accuracy: 0.6364\n",
            "Epoch 94/300\n",
            "8/8 [==============================] - 0s 3ms/step - loss: 1.7210 - accuracy: 0.6240\n",
            "Epoch 95/300\n",
            "8/8 [==============================] - 0s 3ms/step - loss: 1.6958 - accuracy: 0.6364\n",
            "Epoch 96/300\n",
            "8/8 [==============================] - 0s 2ms/step - loss: 1.6693 - accuracy: 0.6364\n",
            "Epoch 97/300\n",
            "8/8 [==============================] - 0s 3ms/step - loss: 1.6365 - accuracy: 0.6322\n",
            "Epoch 98/300\n",
            "8/8 [==============================] - 0s 3ms/step - loss: 1.6105 - accuracy: 0.6322\n",
            "Epoch 99/300\n",
            "8/8 [==============================] - 0s 3ms/step - loss: 1.5798 - accuracy: 0.6364\n",
            "Epoch 100/300\n",
            "8/8 [==============================] - 0s 3ms/step - loss: 1.5517 - accuracy: 0.6405\n",
            "Epoch 101/300\n",
            "8/8 [==============================] - 0s 3ms/step - loss: 1.5241 - accuracy: 0.6446\n",
            "Epoch 102/300\n",
            "8/8 [==============================] - 0s 2ms/step - loss: 1.4951 - accuracy: 0.6446\n",
            "Epoch 103/300\n",
            "8/8 [==============================] - 0s 3ms/step - loss: 1.4677 - accuracy: 0.6364\n",
            "Epoch 104/300\n",
            "8/8 [==============================] - 0s 3ms/step - loss: 1.4517 - accuracy: 0.6364\n",
            "Epoch 105/300\n",
            "8/8 [==============================] - 0s 3ms/step - loss: 1.4133 - accuracy: 0.6488\n",
            "Epoch 106/300\n",
            "8/8 [==============================] - 0s 3ms/step - loss: 1.3946 - accuracy: 0.6446\n",
            "Epoch 107/300\n",
            "8/8 [==============================] - 0s 3ms/step - loss: 1.3559 - accuracy: 0.6488\n",
            "Epoch 108/300\n",
            "8/8 [==============================] - 0s 2ms/step - loss: 1.3314 - accuracy: 0.6570\n",
            "Epoch 109/300\n",
            "8/8 [==============================] - 0s 3ms/step - loss: 1.3041 - accuracy: 0.6612\n",
            "Epoch 110/300\n",
            "8/8 [==============================] - 0s 2ms/step - loss: 1.2747 - accuracy: 0.6612\n",
            "Epoch 111/300\n",
            "8/8 [==============================] - 0s 4ms/step - loss: 1.2474 - accuracy: 0.6653\n",
            "Epoch 112/300\n",
            "8/8 [==============================] - 0s 3ms/step - loss: 1.2206 - accuracy: 0.6736\n",
            "Epoch 113/300\n",
            "8/8 [==============================] - 0s 3ms/step - loss: 1.1978 - accuracy: 0.6653\n",
            "Epoch 114/300\n",
            "8/8 [==============================] - 0s 3ms/step - loss: 1.1659 - accuracy: 0.6612\n",
            "Epoch 115/300\n",
            "8/8 [==============================] - 0s 3ms/step - loss: 1.1247 - accuracy: 0.6736\n",
            "Epoch 116/300\n",
            "8/8 [==============================] - 0s 3ms/step - loss: 1.1068 - accuracy: 0.6736\n",
            "Epoch 117/300\n",
            "8/8 [==============================] - 0s 3ms/step - loss: 1.0673 - accuracy: 0.6736\n",
            "Epoch 118/300\n",
            "8/8 [==============================] - 0s 3ms/step - loss: 1.0497 - accuracy: 0.6777\n",
            "Epoch 119/300\n",
            "8/8 [==============================] - 0s 2ms/step - loss: 1.0206 - accuracy: 0.6736\n",
            "Epoch 120/300\n",
            "8/8 [==============================] - 0s 3ms/step - loss: 1.0050 - accuracy: 0.6860\n",
            "Epoch 121/300\n",
            "8/8 [==============================] - 0s 3ms/step - loss: 0.9879 - accuracy: 0.6818\n",
            "Epoch 122/300\n",
            "8/8 [==============================] - 0s 3ms/step - loss: 0.9675 - accuracy: 0.6694\n",
            "Epoch 123/300\n",
            "8/8 [==============================] - 0s 2ms/step - loss: 0.9605 - accuracy: 0.6983\n",
            "Epoch 124/300\n",
            "8/8 [==============================] - 0s 3ms/step - loss: 0.9391 - accuracy: 0.7025\n",
            "Epoch 125/300\n",
            "8/8 [==============================] - 0s 3ms/step - loss: 0.9205 - accuracy: 0.6818\n",
            "Epoch 126/300\n",
            "8/8 [==============================] - 0s 2ms/step - loss: 0.9163 - accuracy: 0.6942\n",
            "Epoch 127/300\n",
            "8/8 [==============================] - 0s 2ms/step - loss: 0.8983 - accuracy: 0.6983\n",
            "Epoch 128/300\n",
            "8/8 [==============================] - 0s 3ms/step - loss: 0.8741 - accuracy: 0.6818\n",
            "Epoch 129/300\n",
            "8/8 [==============================] - 0s 3ms/step - loss: 0.8609 - accuracy: 0.6942\n",
            "Epoch 130/300\n",
            "8/8 [==============================] - 0s 2ms/step - loss: 0.8572 - accuracy: 0.6901\n",
            "Epoch 131/300\n",
            "8/8 [==============================] - 0s 3ms/step - loss: 0.8369 - accuracy: 0.6983\n",
            "Epoch 132/300\n",
            "8/8 [==============================] - 0s 3ms/step - loss: 0.8298 - accuracy: 0.6942\n",
            "Epoch 133/300\n",
            "8/8 [==============================] - 0s 2ms/step - loss: 0.8172 - accuracy: 0.6901\n",
            "Epoch 134/300\n",
            "8/8 [==============================] - 0s 2ms/step - loss: 0.8129 - accuracy: 0.6942\n",
            "Epoch 135/300\n",
            "8/8 [==============================] - 0s 2ms/step - loss: 0.8069 - accuracy: 0.6901\n",
            "Epoch 136/300\n",
            "8/8 [==============================] - 0s 3ms/step - loss: 0.7819 - accuracy: 0.6942\n",
            "Epoch 137/300\n",
            "8/8 [==============================] - 0s 2ms/step - loss: 0.7722 - accuracy: 0.6860\n",
            "Epoch 138/300\n",
            "8/8 [==============================] - 0s 2ms/step - loss: 0.7552 - accuracy: 0.7025\n",
            "Epoch 139/300\n",
            "8/8 [==============================] - 0s 2ms/step - loss: 0.7518 - accuracy: 0.6777\n",
            "Epoch 140/300\n",
            "8/8 [==============================] - 0s 3ms/step - loss: 0.7466 - accuracy: 0.6942\n",
            "Epoch 141/300\n",
            "8/8 [==============================] - 0s 3ms/step - loss: 0.7403 - accuracy: 0.6818\n",
            "Epoch 142/300\n",
            "8/8 [==============================] - 0s 3ms/step - loss: 0.7210 - accuracy: 0.6777\n",
            "Epoch 143/300\n",
            "8/8 [==============================] - 0s 3ms/step - loss: 0.7279 - accuracy: 0.6942\n",
            "Epoch 144/300\n",
            "8/8 [==============================] - 0s 3ms/step - loss: 0.7156 - accuracy: 0.6860\n",
            "Epoch 145/300\n",
            "8/8 [==============================] - 0s 3ms/step - loss: 0.7160 - accuracy: 0.6736\n",
            "Epoch 146/300\n",
            "8/8 [==============================] - 0s 2ms/step - loss: 0.7040 - accuracy: 0.6901\n",
            "Epoch 147/300\n",
            "8/8 [==============================] - 0s 4ms/step - loss: 0.7109 - accuracy: 0.6942\n",
            "Epoch 148/300\n",
            "8/8 [==============================] - 0s 3ms/step - loss: 0.6960 - accuracy: 0.6901\n",
            "Epoch 149/300\n",
            "8/8 [==============================] - 0s 2ms/step - loss: 0.7106 - accuracy: 0.6694\n",
            "Epoch 150/300\n",
            "8/8 [==============================] - 0s 2ms/step - loss: 0.6857 - accuracy: 0.6901\n",
            "Epoch 151/300\n",
            "8/8 [==============================] - 0s 3ms/step - loss: 0.6973 - accuracy: 0.6694\n",
            "Epoch 152/300\n",
            "8/8 [==============================] - 0s 3ms/step - loss: 0.6863 - accuracy: 0.6901\n",
            "Epoch 153/300\n",
            "8/8 [==============================] - 0s 2ms/step - loss: 0.6853 - accuracy: 0.6901\n",
            "Epoch 154/300\n",
            "8/8 [==============================] - 0s 3ms/step - loss: 0.6934 - accuracy: 0.6901\n",
            "Epoch 155/300\n",
            "8/8 [==============================] - 0s 2ms/step - loss: 0.6726 - accuracy: 0.6901\n",
            "Epoch 156/300\n",
            "8/8 [==============================] - 0s 2ms/step - loss: 0.6745 - accuracy: 0.6942\n",
            "Epoch 157/300\n",
            "8/8 [==============================] - 0s 2ms/step - loss: 0.6677 - accuracy: 0.6777\n",
            "Epoch 158/300\n",
            "8/8 [==============================] - 0s 3ms/step - loss: 0.6684 - accuracy: 0.6860\n",
            "Epoch 159/300\n",
            "8/8 [==============================] - 0s 2ms/step - loss: 0.6675 - accuracy: 0.6901\n",
            "Epoch 160/300\n",
            "8/8 [==============================] - 0s 2ms/step - loss: 0.6571 - accuracy: 0.6818\n",
            "Epoch 161/300\n",
            "8/8 [==============================] - 0s 3ms/step - loss: 0.6726 - accuracy: 0.6983\n",
            "Epoch 162/300\n",
            "8/8 [==============================] - 0s 2ms/step - loss: 0.6629 - accuracy: 0.6983\n",
            "Epoch 163/300\n",
            "8/8 [==============================] - 0s 3ms/step - loss: 0.6518 - accuracy: 0.7025\n",
            "Epoch 164/300\n",
            "8/8 [==============================] - 0s 3ms/step - loss: 0.6506 - accuracy: 0.7107\n",
            "Epoch 165/300\n",
            "8/8 [==============================] - 0s 3ms/step - loss: 0.6605 - accuracy: 0.6818\n",
            "Epoch 166/300\n",
            "8/8 [==============================] - 0s 2ms/step - loss: 0.6519 - accuracy: 0.7066\n",
            "Epoch 167/300\n",
            "8/8 [==============================] - 0s 3ms/step - loss: 0.6453 - accuracy: 0.7025\n",
            "Epoch 168/300\n",
            "8/8 [==============================] - 0s 3ms/step - loss: 0.6418 - accuracy: 0.6983\n",
            "Epoch 169/300\n",
            "8/8 [==============================] - 0s 3ms/step - loss: 0.6336 - accuracy: 0.7025\n",
            "Epoch 170/300\n",
            "8/8 [==============================] - 0s 2ms/step - loss: 0.6316 - accuracy: 0.7066\n",
            "Epoch 171/300\n",
            "8/8 [==============================] - 0s 3ms/step - loss: 0.6316 - accuracy: 0.7025\n",
            "Epoch 172/300\n",
            "8/8 [==============================] - 0s 2ms/step - loss: 0.6303 - accuracy: 0.7066\n",
            "Epoch 173/300\n",
            "8/8 [==============================] - 0s 3ms/step - loss: 0.6274 - accuracy: 0.7025\n",
            "Epoch 174/300\n",
            "8/8 [==============================] - 0s 3ms/step - loss: 0.6253 - accuracy: 0.7190\n",
            "Epoch 175/300\n",
            "8/8 [==============================] - 0s 2ms/step - loss: 0.6223 - accuracy: 0.7107\n",
            "Epoch 176/300\n",
            "8/8 [==============================] - 0s 3ms/step - loss: 0.6268 - accuracy: 0.7107\n",
            "Epoch 177/300\n",
            "8/8 [==============================] - 0s 2ms/step - loss: 0.6285 - accuracy: 0.7025\n",
            "Epoch 178/300\n",
            "8/8 [==============================] - 0s 3ms/step - loss: 0.6229 - accuracy: 0.7273\n",
            "Epoch 179/300\n",
            "8/8 [==============================] - 0s 3ms/step - loss: 0.6181 - accuracy: 0.7149\n",
            "Epoch 180/300\n",
            "8/8 [==============================] - 0s 2ms/step - loss: 0.6186 - accuracy: 0.7107\n",
            "Epoch 181/300\n",
            "8/8 [==============================] - 0s 3ms/step - loss: 0.6205 - accuracy: 0.7107\n",
            "Epoch 182/300\n",
            "8/8 [==============================] - 0s 3ms/step - loss: 0.6093 - accuracy: 0.7231\n",
            "Epoch 183/300\n",
            "8/8 [==============================] - 0s 2ms/step - loss: 0.6196 - accuracy: 0.7149\n",
            "Epoch 184/300\n",
            "8/8 [==============================] - 0s 3ms/step - loss: 0.6123 - accuracy: 0.7231\n",
            "Epoch 185/300\n",
            "8/8 [==============================] - 0s 3ms/step - loss: 0.6078 - accuracy: 0.7066\n",
            "Epoch 186/300\n",
            "8/8 [==============================] - 0s 3ms/step - loss: 0.6068 - accuracy: 0.7231\n",
            "Epoch 187/300\n",
            "8/8 [==============================] - 0s 3ms/step - loss: 0.6003 - accuracy: 0.7190\n",
            "Epoch 188/300\n",
            "8/8 [==============================] - 0s 2ms/step - loss: 0.6045 - accuracy: 0.7149\n",
            "Epoch 189/300\n",
            "8/8 [==============================] - 0s 2ms/step - loss: 0.5935 - accuracy: 0.7314\n",
            "Epoch 190/300\n",
            "8/8 [==============================] - 0s 3ms/step - loss: 0.6026 - accuracy: 0.7190\n",
            "Epoch 191/300\n",
            "8/8 [==============================] - 0s 2ms/step - loss: 0.5902 - accuracy: 0.7314\n",
            "Epoch 192/300\n",
            "8/8 [==============================] - 0s 3ms/step - loss: 0.5994 - accuracy: 0.7190\n",
            "Epoch 193/300\n",
            "8/8 [==============================] - 0s 2ms/step - loss: 0.5923 - accuracy: 0.7314\n",
            "Epoch 194/300\n",
            "8/8 [==============================] - 0s 3ms/step - loss: 0.5881 - accuracy: 0.7397\n",
            "Epoch 195/300\n",
            "8/8 [==============================] - 0s 3ms/step - loss: 0.6094 - accuracy: 0.7273\n",
            "Epoch 196/300\n",
            "8/8 [==============================] - 0s 3ms/step - loss: 0.5862 - accuracy: 0.7397\n",
            "Epoch 197/300\n",
            "8/8 [==============================] - 0s 3ms/step - loss: 0.5832 - accuracy: 0.7479\n",
            "Epoch 198/300\n",
            "8/8 [==============================] - 0s 3ms/step - loss: 0.5825 - accuracy: 0.7314\n",
            "Epoch 199/300\n",
            "8/8 [==============================] - 0s 2ms/step - loss: 0.5790 - accuracy: 0.7355\n",
            "Epoch 200/300\n",
            "8/8 [==============================] - 0s 2ms/step - loss: 0.5888 - accuracy: 0.7521\n",
            "Epoch 201/300\n",
            "8/8 [==============================] - 0s 2ms/step - loss: 0.5812 - accuracy: 0.7314\n",
            "Epoch 202/300\n",
            "8/8 [==============================] - 0s 3ms/step - loss: 0.5752 - accuracy: 0.7355\n",
            "Epoch 203/300\n",
            "8/8 [==============================] - 0s 3ms/step - loss: 0.5905 - accuracy: 0.7479\n",
            "Epoch 204/300\n",
            "8/8 [==============================] - 0s 3ms/step - loss: 0.5716 - accuracy: 0.7355\n",
            "Epoch 205/300\n",
            "8/8 [==============================] - 0s 3ms/step - loss: 0.5828 - accuracy: 0.7314\n",
            "Epoch 206/300\n",
            "8/8 [==============================] - 0s 3ms/step - loss: 0.5727 - accuracy: 0.7562\n",
            "Epoch 207/300\n",
            "8/8 [==============================] - 0s 2ms/step - loss: 0.5687 - accuracy: 0.7521\n",
            "Epoch 208/300\n",
            "8/8 [==============================] - 0s 3ms/step - loss: 0.5703 - accuracy: 0.7397\n",
            "Epoch 209/300\n",
            "8/8 [==============================] - 0s 3ms/step - loss: 0.5670 - accuracy: 0.7479\n",
            "Epoch 210/300\n",
            "8/8 [==============================] - 0s 2ms/step - loss: 0.5652 - accuracy: 0.7562\n",
            "Epoch 211/300\n",
            "8/8 [==============================] - 0s 3ms/step - loss: 0.5734 - accuracy: 0.7479\n",
            "Epoch 212/300\n",
            "8/8 [==============================] - 0s 3ms/step - loss: 0.5633 - accuracy: 0.7479\n",
            "Epoch 213/300\n",
            "8/8 [==============================] - 0s 2ms/step - loss: 0.5615 - accuracy: 0.7603\n",
            "Epoch 214/300\n",
            "8/8 [==============================] - 0s 2ms/step - loss: 0.5593 - accuracy: 0.7603\n",
            "Epoch 215/300\n",
            "8/8 [==============================] - 0s 3ms/step - loss: 0.5558 - accuracy: 0.7438\n",
            "Epoch 216/300\n",
            "8/8 [==============================] - 0s 3ms/step - loss: 0.5532 - accuracy: 0.7645\n",
            "Epoch 217/300\n",
            "8/8 [==============================] - 0s 3ms/step - loss: 0.5686 - accuracy: 0.7603\n",
            "Epoch 218/300\n",
            "8/8 [==============================] - 0s 2ms/step - loss: 0.5575 - accuracy: 0.7521\n",
            "Epoch 219/300\n",
            "8/8 [==============================] - 0s 3ms/step - loss: 0.5577 - accuracy: 0.7603\n",
            "Epoch 220/300\n",
            "8/8 [==============================] - 0s 3ms/step - loss: 0.5939 - accuracy: 0.7314\n",
            "Epoch 221/300\n",
            "8/8 [==============================] - 0s 4ms/step - loss: 0.5930 - accuracy: 0.7645\n",
            "Epoch 222/300\n",
            "8/8 [==============================] - 0s 3ms/step - loss: 0.5632 - accuracy: 0.7397\n",
            "Epoch 223/300\n",
            "8/8 [==============================] - 0s 3ms/step - loss: 0.5529 - accuracy: 0.7603\n",
            "Epoch 224/300\n",
            "8/8 [==============================] - 0s 2ms/step - loss: 0.5436 - accuracy: 0.7479\n",
            "Epoch 225/300\n",
            "8/8 [==============================] - 0s 3ms/step - loss: 0.5436 - accuracy: 0.7479\n",
            "Epoch 226/300\n",
            "8/8 [==============================] - 0s 3ms/step - loss: 0.5483 - accuracy: 0.7562\n",
            "Epoch 227/300\n",
            "8/8 [==============================] - 0s 3ms/step - loss: 0.5510 - accuracy: 0.7397\n",
            "Epoch 228/300\n",
            "8/8 [==============================] - 0s 2ms/step - loss: 0.5486 - accuracy: 0.7562\n",
            "Epoch 229/300\n",
            "8/8 [==============================] - 0s 3ms/step - loss: 0.5415 - accuracy: 0.7479\n",
            "Epoch 230/300\n",
            "8/8 [==============================] - 0s 2ms/step - loss: 0.5370 - accuracy: 0.7562\n",
            "Epoch 231/300\n",
            "8/8 [==============================] - 0s 3ms/step - loss: 0.5472 - accuracy: 0.7521\n",
            "Epoch 232/300\n",
            "8/8 [==============================] - 0s 3ms/step - loss: 0.5236 - accuracy: 0.7810\n",
            "Epoch 233/300\n",
            "8/8 [==============================] - 0s 3ms/step - loss: 0.5288 - accuracy: 0.7769\n",
            "Epoch 234/300\n",
            "8/8 [==============================] - 0s 3ms/step - loss: 0.5256 - accuracy: 0.7810\n",
            "Epoch 235/300\n",
            "8/8 [==============================] - 0s 3ms/step - loss: 0.5293 - accuracy: 0.7562\n",
            "Epoch 236/300\n",
            "8/8 [==============================] - 0s 3ms/step - loss: 0.5251 - accuracy: 0.7727\n",
            "Epoch 237/300\n",
            "8/8 [==============================] - 0s 3ms/step - loss: 0.5243 - accuracy: 0.7686\n",
            "Epoch 238/300\n",
            "8/8 [==============================] - 0s 3ms/step - loss: 0.5190 - accuracy: 0.7810\n",
            "Epoch 239/300\n",
            "8/8 [==============================] - 0s 2ms/step - loss: 0.5133 - accuracy: 0.7851\n",
            "Epoch 240/300\n",
            "8/8 [==============================] - 0s 3ms/step - loss: 0.5142 - accuracy: 0.7727\n",
            "Epoch 241/300\n",
            "8/8 [==============================] - 0s 3ms/step - loss: 0.5090 - accuracy: 0.7851\n",
            "Epoch 242/300\n",
            "8/8 [==============================] - 0s 3ms/step - loss: 0.5087 - accuracy: 0.7727\n",
            "Epoch 243/300\n",
            "8/8 [==============================] - 0s 3ms/step - loss: 0.5110 - accuracy: 0.7686\n",
            "Epoch 244/300\n",
            "8/8 [==============================] - 0s 2ms/step - loss: 0.5246 - accuracy: 0.7562\n",
            "Epoch 245/300\n",
            "8/8 [==============================] - 0s 2ms/step - loss: 0.5089 - accuracy: 0.7645\n",
            "Epoch 246/300\n",
            "8/8 [==============================] - 0s 2ms/step - loss: 0.5058 - accuracy: 0.7810\n",
            "Epoch 247/300\n",
            "8/8 [==============================] - 0s 3ms/step - loss: 0.5095 - accuracy: 0.7810\n",
            "Epoch 248/300\n",
            "8/8 [==============================] - 0s 3ms/step - loss: 0.5016 - accuracy: 0.7851\n",
            "Epoch 249/300\n",
            "8/8 [==============================] - 0s 3ms/step - loss: 0.5009 - accuracy: 0.7769\n",
            "Epoch 250/300\n",
            "8/8 [==============================] - 0s 3ms/step - loss: 0.5000 - accuracy: 0.7851\n",
            "Epoch 251/300\n",
            "8/8 [==============================] - 0s 3ms/step - loss: 0.4994 - accuracy: 0.7769\n",
            "Epoch 252/300\n",
            "8/8 [==============================] - 0s 3ms/step - loss: 0.5130 - accuracy: 0.7810\n",
            "Epoch 253/300\n",
            "8/8 [==============================] - 0s 3ms/step - loss: 0.5117 - accuracy: 0.7562\n",
            "Epoch 254/300\n",
            "8/8 [==============================] - 0s 2ms/step - loss: 0.5051 - accuracy: 0.7851\n",
            "Epoch 255/300\n",
            "8/8 [==============================] - 0s 2ms/step - loss: 0.5043 - accuracy: 0.7438\n",
            "Epoch 256/300\n",
            "8/8 [==============================] - 0s 3ms/step - loss: 0.4985 - accuracy: 0.7769\n",
            "Epoch 257/300\n",
            "8/8 [==============================] - 0s 2ms/step - loss: 0.4908 - accuracy: 0.7851\n",
            "Epoch 258/300\n",
            "8/8 [==============================] - 0s 3ms/step - loss: 0.4912 - accuracy: 0.7810\n",
            "Epoch 259/300\n",
            "8/8 [==============================] - 0s 3ms/step - loss: 0.4859 - accuracy: 0.7893\n",
            "Epoch 260/300\n",
            "8/8 [==============================] - 0s 3ms/step - loss: 0.4981 - accuracy: 0.7769\n",
            "Epoch 261/300\n",
            "8/8 [==============================] - 0s 3ms/step - loss: 0.4917 - accuracy: 0.7975\n",
            "Epoch 262/300\n",
            "8/8 [==============================] - 0s 3ms/step - loss: 0.5225 - accuracy: 0.7562\n",
            "Epoch 263/300\n",
            "8/8 [==============================] - 0s 3ms/step - loss: 0.5119 - accuracy: 0.7603\n",
            "Epoch 264/300\n",
            "8/8 [==============================] - 0s 2ms/step - loss: 0.4848 - accuracy: 0.7975\n",
            "Epoch 265/300\n",
            "8/8 [==============================] - 0s 3ms/step - loss: 0.4917 - accuracy: 0.7975\n",
            "Epoch 266/300\n",
            "8/8 [==============================] - 0s 3ms/step - loss: 0.4773 - accuracy: 0.7975\n",
            "Epoch 267/300\n",
            "8/8 [==============================] - 0s 3ms/step - loss: 0.4899 - accuracy: 0.7603\n",
            "Epoch 268/300\n",
            "8/8 [==============================] - 0s 4ms/step - loss: 0.4834 - accuracy: 0.7851\n",
            "Epoch 269/300\n",
            "8/8 [==============================] - 0s 4ms/step - loss: 0.4855 - accuracy: 0.7851\n",
            "Epoch 270/300\n",
            "8/8 [==============================] - 0s 3ms/step - loss: 0.4809 - accuracy: 0.7727\n",
            "Epoch 271/300\n",
            "8/8 [==============================] - 0s 4ms/step - loss: 0.4839 - accuracy: 0.7893\n",
            "Epoch 272/300\n",
            "8/8 [==============================] - 0s 3ms/step - loss: 0.4884 - accuracy: 0.7727\n",
            "Epoch 273/300\n",
            "8/8 [==============================] - 0s 3ms/step - loss: 0.4764 - accuracy: 0.7893\n",
            "Epoch 274/300\n",
            "8/8 [==============================] - 0s 3ms/step - loss: 0.4748 - accuracy: 0.7851\n",
            "Epoch 275/300\n",
            "8/8 [==============================] - 0s 4ms/step - loss: 0.4784 - accuracy: 0.7975\n",
            "Epoch 276/300\n",
            "8/8 [==============================] - 0s 3ms/step - loss: 0.4728 - accuracy: 0.7851\n",
            "Epoch 277/300\n",
            "8/8 [==============================] - 0s 3ms/step - loss: 0.4759 - accuracy: 0.7810\n",
            "Epoch 278/300\n",
            "8/8 [==============================] - 0s 4ms/step - loss: 0.4790 - accuracy: 0.8017\n",
            "Epoch 279/300\n",
            "8/8 [==============================] - 0s 4ms/step - loss: 0.4887 - accuracy: 0.7851\n",
            "Epoch 280/300\n",
            "8/8 [==============================] - 0s 3ms/step - loss: 0.4752 - accuracy: 0.8017\n",
            "Epoch 281/300\n",
            "8/8 [==============================] - 0s 3ms/step - loss: 0.4722 - accuracy: 0.7934\n",
            "Epoch 282/300\n",
            "8/8 [==============================] - 0s 3ms/step - loss: 0.4830 - accuracy: 0.7934\n",
            "Epoch 283/300\n",
            "8/8 [==============================] - 0s 3ms/step - loss: 0.4942 - accuracy: 0.7769\n",
            "Epoch 284/300\n",
            "8/8 [==============================] - 0s 5ms/step - loss: 0.4777 - accuracy: 0.7975\n",
            "Epoch 285/300\n",
            "8/8 [==============================] - 0s 3ms/step - loss: 0.4809 - accuracy: 0.7810\n",
            "Epoch 286/300\n",
            "8/8 [==============================] - 0s 3ms/step - loss: 0.4625 - accuracy: 0.7893\n",
            "Epoch 287/300\n",
            "8/8 [==============================] - 0s 3ms/step - loss: 0.4741 - accuracy: 0.7851\n",
            "Epoch 288/300\n",
            "8/8 [==============================] - 0s 3ms/step - loss: 0.4742 - accuracy: 0.7893\n",
            "Epoch 289/300\n",
            "8/8 [==============================] - 0s 4ms/step - loss: 0.4615 - accuracy: 0.8017\n",
            "Epoch 290/300\n",
            "8/8 [==============================] - 0s 4ms/step - loss: 0.4619 - accuracy: 0.7851\n",
            "Epoch 291/300\n",
            "8/8 [==============================] - 0s 4ms/step - loss: 0.4616 - accuracy: 0.7893\n",
            "Epoch 292/300\n",
            "8/8 [==============================] - 0s 4ms/step - loss: 0.4600 - accuracy: 0.7934\n",
            "Epoch 293/300\n",
            "8/8 [==============================] - 0s 3ms/step - loss: 0.4623 - accuracy: 0.7810\n",
            "Epoch 294/300\n",
            "8/8 [==============================] - 0s 3ms/step - loss: 0.4690 - accuracy: 0.7975\n",
            "Epoch 295/300\n",
            "8/8 [==============================] - 0s 3ms/step - loss: 0.4596 - accuracy: 0.7893\n",
            "Epoch 296/300\n",
            "8/8 [==============================] - 0s 3ms/step - loss: 0.4594 - accuracy: 0.7893\n",
            "Epoch 297/300\n",
            "8/8 [==============================] - 0s 5ms/step - loss: 0.4590 - accuracy: 0.8017\n",
            "Epoch 298/300\n",
            "8/8 [==============================] - 0s 3ms/step - loss: 0.4721 - accuracy: 0.7893\n",
            "Epoch 299/300\n",
            "8/8 [==============================] - 0s 4ms/step - loss: 0.4578 - accuracy: 0.8099\n",
            "Epoch 300/300\n",
            "8/8 [==============================] - 0s 4ms/step - loss: 0.4582 - accuracy: 0.7893\n"
          ]
        },
        {
          "output_type": "execute_result",
          "data": {
            "text/plain": [
              "<keras.src.callbacks.History at 0x7e5820399b70>"
            ]
          },
          "metadata": {},
          "execution_count": 135
        }
      ],
      "source": [
        "model.fit(X_train,Y_train,epochs=300)"
      ]
    },
    {
      "cell_type": "code",
      "execution_count": 136,
      "metadata": {
        "_uuid": "c844af4f00d40c4cce4c4e5a9a01c9a892e9533d",
        "colab": {
          "base_uri": "https://localhost:8080/"
        },
        "id": "TqHwQt7wb3L7",
        "outputId": "707cf89e-e3dc-4e78-b45f-4fc6317202fd"
      },
      "outputs": [
        {
          "output_type": "stream",
          "name": "stdout",
          "text": [
            "2/2 [==============================] - 0s 11ms/step\n"
          ]
        }
      ],
      "source": [
        "Y_pred_nn = model.predict(X_test)"
      ]
    },
    {
      "cell_type": "code",
      "execution_count": 137,
      "metadata": {
        "_uuid": "7e95c4946c0103225663862f43f31c41ed5aa2b1",
        "colab": {
          "base_uri": "https://localhost:8080/"
        },
        "id": "jPfxhS-xb3L7",
        "outputId": "7ab3615b-ece4-43c5-8e75-3c5a595c4771"
      },
      "outputs": [
        {
          "output_type": "execute_result",
          "data": {
            "text/plain": [
              "(61, 1)"
            ]
          },
          "metadata": {},
          "execution_count": 137
        }
      ],
      "source": [
        "Y_pred_nn.shape"
      ]
    },
    {
      "cell_type": "code",
      "execution_count": 138,
      "metadata": {
        "_uuid": "66d9268e3f87b5a98066196eaa39363218a20015",
        "id": "GZOmU_eDb3L8"
      },
      "outputs": [],
      "source": [
        "rounded = [round(x[0]) for x in Y_pred_nn]\n",
        "\n",
        "Y_pred_nn = rounded"
      ]
    },
    {
      "cell_type": "code",
      "execution_count": 139,
      "metadata": {
        "_uuid": "888d79632c3191c2d11c1ec3da8dc750c9d95424",
        "colab": {
          "base_uri": "https://localhost:8080/"
        },
        "id": "MwndIpSab3L8",
        "outputId": "4aa4cbaa-e6b7-444b-e82b-3117492ca62c"
      },
      "outputs": [
        {
          "output_type": "stream",
          "name": "stdout",
          "text": [
            "The accuracy score achieved using Neural Network is: 80.33 %\n"
          ]
        }
      ],
      "source": [
        "score_nn = round(accuracy_score(Y_pred_nn,Y_test)*100,2)\n",
        "\n",
        "print(\"The accuracy score achieved using Neural Network is: \"+str(score_nn)+\" %\")\n",
        "\n",
        "#Note: Accuracy of 85% can be achieved on the test set, by setting epochs=2000, and number of nodes = 11."
      ]
    },
    {
      "cell_type": "markdown",
      "metadata": {
        "_uuid": "c634cd922d716d350f6db0244772260cc598dec4",
        "id": "4Ozcli2Gb3L8"
      },
      "source": [
        "## VI. Output final score"
      ]
    },
    {
      "cell_type": "code",
      "execution_count": 140,
      "metadata": {
        "_uuid": "101daa51242624c49bb8b3198d9d2c9f8f1c596e",
        "colab": {
          "base_uri": "https://localhost:8080/"
        },
        "id": "b8EgVwL0b3L8",
        "outputId": "96db28f9-dfa6-4160-8868-04c211ebaaee"
      },
      "outputs": [
        {
          "output_type": "stream",
          "name": "stdout",
          "text": [
            "The accuracy score achieved using Logistic Regression is: 85.25 %\n",
            "The accuracy score achieved using Naive Bayes is: 85.25 %\n",
            "The accuracy score achieved using Support Vector Machine is: 81.97 %\n",
            "The accuracy score achieved using K-Nearest Neighbors is: 67.21 %\n",
            "The accuracy score achieved using Decision Tree is: 81.97 %\n",
            "The accuracy score achieved using Random Forest is: 90.16 %\n",
            "The accuracy score achieved using XGBoost is: 83.61 %\n",
            "The accuracy score achieved using Neural Network is: 80.33 %\n"
          ]
        }
      ],
      "source": [
        "scores = [score_lr,score_nb,score_svm,score_knn,score_dt,score_rf,score_xgb,score_nn]\n",
        "algorithms = [\"Logistic Regression\",\"Naive Bayes\",\"Support Vector Machine\",\"K-Nearest Neighbors\",\"Decision Tree\",\"Random Forest\",\"XGBoost\",\"Neural Network\"]\n",
        "\n",
        "for i in range(len(algorithms)):\n",
        "    print(\"The accuracy score achieved using \"+algorithms[i]+\" is: \"+str(scores[i])+\" %\")"
      ]
    },
    {
      "cell_type": "code",
      "execution_count": 142,
      "metadata": {
        "_uuid": "8060c7d426f9f7b64772f37e0a74ededca16838d",
        "colab": {
          "base_uri": "https://localhost:8080/",
          "height": 722
        },
        "id": "e7fjkwQSb3L8",
        "outputId": "029bed82-7c65-4c52-c823-64f4936a63a3"
      },
      "outputs": [
        {
          "output_type": "execute_result",
          "data": {
            "text/plain": [
              "<Axes: xlabel='Algorithms', ylabel='Accuracy score'>"
            ]
          },
          "metadata": {},
          "execution_count": 142
        },
        {
          "output_type": "display_data",
          "data": {
            "text/plain": [
              "<Figure size 1500x800 with 1 Axes>"
            ],
            "image/png": "[encoded data removed]"
          },
          "metadata": {}
        }
      ],
      "source": [
        "sns.set(rc={'figure.figsize':(15,8)})\n",
        "plt.xlabel(\"Algorithms\")\n",
        "plt.ylabel(\"Accuracy score\")\n",
        "\n",
        "sns.barplot(x=algorithms, y=scores)"
      ]
    },
    {
      "cell_type": "markdown",
      "metadata": {
        "_uuid": "bf9c2071e0d480ab335376d8a177914a8fdca9b7",
        "id": "PLOlPP4Fb3L9"
      },
      "source": [
        "### Hey arbaaz there random forest has good result as compare to other algorithms <br> <br>"
      ]
    },
    {
      "cell_type": "markdown",
      "metadata": {
        "_uuid": "16759e71e0db7e5458cd37a19fbf7b21c24e7301",
        "id": "gA8DTtaMb3L9"
      },
      "source": []
    }
  ],
  "metadata": {
    "kernelspec": {
      "display_name": "Python 3",
      "language": "python",
      "name": "python3"
    },
    "language_info": {
      "codemirror_mode": {
        "name": "ipython",
        "version": 3
      },
      "file_extension": ".py",
      "mimetype": "text/x-python",
      "name": "python",
      "nbconvert_exporter": "python",
      "pygments_lexer": "ipython3",
      "version": "3.6.2"
    },
    "colab": {
      "provenance": []
    }
  },
  "nbformat": 4,
  "nbformat_minor": 0
}